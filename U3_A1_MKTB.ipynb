{
  "nbformat": 4,
  "nbformat_minor": 0,
  "metadata": {
    "colab": {
      "name": "U3_A1_MKTB.ipynb",
      "provenance": [],
      "collapsed_sections": [],
      "authorship_tag": "ABX9TyMEaTucA2LCItF0Q3Xecx4s",
      "include_colab_link": true
    },
    "kernelspec": {
      "display_name": "Python 3",
      "language": "python",
      "name": "python3"
    },
    "language_info": {
      "codemirror_mode": {
        "name": "ipython",
        "version": 3
      },
      "file_extension": ".py",
      "mimetype": "text/x-python",
      "name": "python",
      "nbconvert_exporter": "python",
      "pygments_lexer": "ipython3",
      "version": "3.9.5"
    }
  },
  "cells": [
    {
      "cell_type": "markdown",
      "metadata": {
        "id": "view-in-github",
        "colab_type": "text"
      },
      "source": [
        "<a href=\"https://colab.research.google.com/github/mkteranb/Ghostblog/blob/master/U3_A1_MKTB.ipynb\" target=\"_parent\"><img src=\"https://colab.research.google.com/assets/colab-badge.svg\" alt=\"Open In Colab\"/></a>"
      ]
    },
    {
      "cell_type": "markdown",
      "metadata": {
        "id": "sijWHymLtKrw"
      },
      "source": [
        "#**Datos**  \n",
        "\n",
        "**Maestría de Ciencias de Datos e Información**\n",
        "\n",
        "**Martha Karina Terán Botello**\n",
        "\n",
        "**Procesamiento de Información 2021-2**\n",
        "\n",
        "**Unidad 3. Inferencia estadística: Modelos de N-gramas**\n",
        "\n",
        "**Actividad 1. Predicción de secuencias de palabras**\n",
        "\n",
        "*Septiembre, 24 2021*"
      ]
    },
    {
      "cell_type": "markdown",
      "metadata": {
        "id": "fQicyr-Mtp2J"
      },
      "source": [
        "#**Instrucciones**\n",
        "\n",
        "**Entregar un documento en formato PDF con la estructura: introducción, desarrollo y conclusiones.**\n",
        "\n",
        "El documento debe incluir:\n",
        "\n",
        "1. Calcular los modelos de probabilidad MLE y MLE con suavizado de Laplace para un modelo de bigramas. Con el corpus \"europarl.es\".\n",
        "2. Calcular si la siguientes oraciones son posibles, es decir, calcular las probabilidades de las siguientes oraciones usando el modelo de MLE y MLE con suavizado de Laplace. Comparar las probabilidades.\n",
        "\n",
        "3. Predicción de palabras, dada una palabra inicial mostrar las siguientes cinco palabras más probables de acuerdo con los modelos MLE y MLE con suavizado de Laplace.\n",
        "\n"
      ]
    },
    {
      "cell_type": "code",
      "metadata": {
        "id": "axz3SOAema9t"
      },
      "source": [
        "#Se importan las librerías que se van a utilizar\n",
        "\n",
        "import pandas as pd\n",
        "import numpy as np\n",
        "import collections\n",
        "import io\n",
        "import re\n",
        "import unicodedata\n",
        "import pickle\n",
        "import nltk\n",
        "from nltk.util import ngrams\n",
        "from nltk.collections import *"
      ],
      "execution_count": null,
      "outputs": []
    },
    {
      "cell_type": "markdown",
      "metadata": {
        "id": "WY31vTJu1M7_"
      },
      "source": [
        "#**Introducción**\n",
        "Para este ejercicios partimos del concepto de inferencia estadística, que consiste en tomar algunos datos generados según una distribución de probabilidad desconocida y obtener algunas conclusiones sobre ella usando n-gramas, es decir, que en lugar de calcular la probabilidad de una palabra dada su historia completa, nos aproximamos a ella solo por lass últimas palabras.\n",
        "\n",
        "Para esto se agrupa en bigramas o trigramas, y se calcula la probabilidad de la siguiente manera conforme a este ejemplo:\n",
        "\n",
        "          <s> El cielo está despejado, </s>\n",
        "\n",
        "en lugar de calcular la Probabilidad de que la siguiente palabra sea **\"lloverá\"** de esta manera:\n",
        "\n",
        "          P(lloverá | El cielo está despejado)\n",
        "aproximamos la probabilidad así:\n",
        "\n",
        "          P(lloverá | despejado)\n",
        "\n"
      ]
    },
    {
      "cell_type": "markdown",
      "metadata": {
        "id": "D43QRLGG0gnQ"
      },
      "source": [
        "# **Desarrollo**\n",
        "\n",
        "Como actividades previas, se realiza la carga de los datos proporcionados.\n"
      ]
    },
    {
      "cell_type": "code",
      "metadata": {
        "id": "g7U-ryg2_7-N"
      },
      "source": [
        "#Se carga el archivo de datos\n",
        "f = open(\"/content/europarl.es\", \"r\")\n",
        "lineas = f.readlines()\n",
        "f.close()"
      ],
      "execution_count": null,
      "outputs": []
    },
    {
      "cell_type": "code",
      "metadata": {
        "colab": {
          "base_uri": "https://localhost:8080/"
        },
        "id": "MQQDJ-uzGvu1",
        "outputId": "b5a7e53b-15f5-4a2e-b0af-c705225baa06"
      },
      "source": [
        "#Se obtiene la totalidad de líneas del archivo de datos y comprobamos que se lee correctamente\n",
        "print(len(lineas))\n",
        "print(lineas[0])"
      ],
      "execution_count": null,
      "outputs": [
        {
          "output_type": "stream",
          "name": "stdout",
          "text": [
            "100000\n",
            "declaro reanudado el período de sesiones del parlamento europeo , interrumpido el viernes 17 de diciembre pasado , y reitero a sus señorías mi deseo de que hayan tenido unas buenas vacaciones .\n",
            "\n"
          ]
        }
      ]
    },
    {
      "cell_type": "markdown",
      "metadata": {
        "id": "2ektGvwl3HE6"
      },
      "source": [
        "Se realiza la limpieza de los datos: se suprimen acentos, puntuación y se convierte a minúsculas, se conservan los stopwords ya que ayudan a formar las oraciones."
      ]
    },
    {
      "cell_type": "code",
      "metadata": {
        "id": "_0cm5zZJ6wCl"
      },
      "source": [
        "#Quitamos acentos y caracteres especiales del texto\n",
        "def quita_acentos(cadena):\n",
        "  valor=unicodedata.normalize('NFKD',cadena)\n",
        "  return u''.join([i for i in valor if not unicodedata.combining(i)])"
      ],
      "execution_count": null,
      "outputs": []
    },
    {
      "cell_type": "code",
      "metadata": {
        "id": "Uo_zf83KvICI"
      },
      "source": [
        "lineas_clean = []\n",
        "for i in range(len(lineas)):\n",
        "  clean_text = quita_acentos(lineas[i])\n",
        "  clean_text = re.sub('[^a-zA-Z0-9 ]', '', clean_text)\n",
        "  lineas_clean.append(clean_text)"
      ],
      "execution_count": null,
      "outputs": []
    },
    {
      "cell_type": "code",
      "metadata": {
        "colab": {
          "base_uri": "https://localhost:8080/"
        },
        "id": "MwhPkgax3HYQ",
        "outputId": "a3a44344-f421-49a8-81a5-c2a3eb0ee6b0"
      },
      "source": [
        "len(lineas_clean)"
      ],
      "execution_count": null,
      "outputs": [
        {
          "output_type": "execute_result",
          "data": {
            "text/plain": [
              "100000"
            ]
          },
          "metadata": {},
          "execution_count": 6
        }
      ]
    },
    {
      "cell_type": "code",
      "metadata": {
        "colab": {
          "base_uri": "https://localhost:8080/"
        },
        "id": "tK1-D9-j3wRV",
        "outputId": "fc1ad505-4c39-444b-cebd-2ab599ebce9a"
      },
      "source": [
        "lineas_clean[1:5]"
      ],
      "execution_count": null,
      "outputs": [
        {
          "output_type": "execute_result",
          "data": {
            "text/plain": [
              "['como todos han podido comprobar  el gran  efecto del ano 2000  no se ha producido  en cambio  los ciudadanos de varios de nuestros paises han sido victimas de catastrofes naturales verdaderamente terribles ',\n",
              " 'sus senorias han solicitado un debate sobre el tema para los proximos dias  en el curso de este periodo de sesiones ',\n",
              " 'a la espera de que se produzca  de acuerdo con muchos colegas que me lo han pedido  pido que hagamos un minuto de silencio en memoria de todas las victimas de las tormentas  en los distintos paises de la union europea afectados ',\n",
              " 'invito a todos a que nos pongamos de pie para guardar un minuto de silencio ']"
            ]
          },
          "metadata": {},
          "execution_count": 7
        }
      ]
    },
    {
      "cell_type": "code",
      "metadata": {
        "id": "LF2RRB1EE5pY"
      },
      "source": [
        "#Incorporamos el inicio y fin de cada línea en la variable corpus\n",
        "corpus = []\n",
        "for i in range(len(lineas)):\n",
        "  corpus.append('<s> ' + lineas_clean[i] + ' </s>')"
      ],
      "execution_count": null,
      "outputs": []
    },
    {
      "cell_type": "code",
      "metadata": {
        "colab": {
          "base_uri": "https://localhost:8080/"
        },
        "id": "ta4-RRre55Cw",
        "outputId": "cf8d217b-e22e-40c8-fe00-ba30166659cd"
      },
      "source": [
        "corpus[0:2]"
      ],
      "execution_count": null,
      "outputs": [
        {
          "output_type": "execute_result",
          "data": {
            "text/plain": [
              "['<s> declaro reanudado el periodo de sesiones del parlamento europeo  interrumpido el viernes 17 de diciembre pasado  y reitero a sus senorias mi deseo de que hayan tenido unas buenas vacaciones  </s>',\n",
              " '<s> como todos han podido comprobar  el gran  efecto del ano 2000  no se ha producido  en cambio  los ciudadanos de varios de nuestros paises han sido victimas de catastrofes naturales verdaderamente terribles  </s>']"
            ]
          },
          "metadata": {},
          "execution_count": 9
        }
      ]
    },
    {
      "cell_type": "code",
      "metadata": {
        "colab": {
          "base_uri": "https://localhost:8080/"
        },
        "id": "RGy1cAdd8FFd",
        "outputId": "d5748b1d-d4b8-4c88-caaf-0a353a4620f0"
      },
      "source": [
        "type(corpus)"
      ],
      "execution_count": null,
      "outputs": [
        {
          "output_type": "execute_result",
          "data": {
            "text/plain": [
              "list"
            ]
          },
          "metadata": {},
          "execution_count": 10
        }
      ]
    },
    {
      "cell_type": "code",
      "metadata": {
        "id": "zDKI-bGwE25M"
      },
      "source": [
        "#A partir de los textos limpios, generamos las listas de palabras de cada oración\n",
        "tokens = []\n",
        "for i in range(len(corpus)):\n",
        "  linea=str(corpus[i])\n",
        "  tokens.append(linea.split())"
      ],
      "execution_count": null,
      "outputs": []
    },
    {
      "cell_type": "code",
      "metadata": {
        "colab": {
          "base_uri": "https://localhost:8080/"
        },
        "id": "aOx6JGiyENlw",
        "outputId": "eb5c8974-8f1b-4265-d4f1-a1c329455aea"
      },
      "source": [
        "tokens[0]"
      ],
      "execution_count": null,
      "outputs": [
        {
          "output_type": "execute_result",
          "data": {
            "text/plain": [
              "['<s>',\n",
              " 'declaro',\n",
              " 'reanudado',\n",
              " 'el',\n",
              " 'periodo',\n",
              " 'de',\n",
              " 'sesiones',\n",
              " 'del',\n",
              " 'parlamento',\n",
              " 'europeo',\n",
              " 'interrumpido',\n",
              " 'el',\n",
              " 'viernes',\n",
              " '17',\n",
              " 'de',\n",
              " 'diciembre',\n",
              " 'pasado',\n",
              " 'y',\n",
              " 'reitero',\n",
              " 'a',\n",
              " 'sus',\n",
              " 'senorias',\n",
              " 'mi',\n",
              " 'deseo',\n",
              " 'de',\n",
              " 'que',\n",
              " 'hayan',\n",
              " 'tenido',\n",
              " 'unas',\n",
              " 'buenas',\n",
              " 'vacaciones',\n",
              " '</s>']"
            ]
          },
          "metadata": {},
          "execution_count": 12
        }
      ]
    },
    {
      "cell_type": "code",
      "metadata": {
        "colab": {
          "base_uri": "https://localhost:8080/"
        },
        "id": "jXnFdstoFyef",
        "outputId": "791f3354-5d87-4b8d-a7e3-aaf9cb0e33bd"
      },
      "source": [
        "len(tokens)"
      ],
      "execution_count": null,
      "outputs": [
        {
          "output_type": "execute_result",
          "data": {
            "text/plain": [
              "100000"
            ]
          },
          "metadata": {},
          "execution_count": 13
        }
      ]
    },
    {
      "cell_type": "code",
      "metadata": {
        "colab": {
          "base_uri": "https://localhost:8080/"
        },
        "id": "MClbwlcECGB9",
        "outputId": "f39630f4-9ca8-422a-baa8-7eb59a4343ca"
      },
      "source": [
        "#Obtenemos la totalidad de palabras de todo el corpus\n",
        "corpus_completo=[]\n",
        "for i in range(len(tokens)):\n",
        "  corpus_completo.extend(tokens[i])\n",
        "len(corpus_completo)"
      ],
      "execution_count": null,
      "outputs": [
        {
          "output_type": "execute_result",
          "data": {
            "text/plain": [
              "2732746"
            ]
          },
          "metadata": {},
          "execution_count": 14
        }
      ]
    },
    {
      "cell_type": "code",
      "metadata": {
        "colab": {
          "base_uri": "https://localhost:8080/"
        },
        "id": "b4lKZxMhHN4D",
        "outputId": "6099c32a-1e66-47d7-a1ed-ace685a44165"
      },
      "source": [
        "type(corpus_completo)"
      ],
      "execution_count": null,
      "outputs": [
        {
          "output_type": "execute_result",
          "data": {
            "text/plain": [
              "list"
            ]
          },
          "metadata": {},
          "execution_count": 15
        }
      ]
    },
    {
      "cell_type": "code",
      "metadata": {
        "id": "G6u2aSGcXSgV"
      },
      "source": [
        "#Obtenemos la frecuencia de las palabras de todo el corpus\n",
        "Freq = nltk.FreqDist(corpus_completo)"
      ],
      "execution_count": null,
      "outputs": []
    },
    {
      "cell_type": "code",
      "metadata": {
        "colab": {
          "base_uri": "https://localhost:8080/"
        },
        "id": "CDm5L4mWXtTJ",
        "outputId": "89b128b7-8191-42f4-9c16-e096a8feb15f"
      },
      "source": [
        "len(Freq)"
      ],
      "execution_count": null,
      "outputs": [
        {
          "output_type": "execute_result",
          "data": {
            "text/plain": [
              "46999"
            ]
          },
          "metadata": {},
          "execution_count": 17
        }
      ]
    },
    {
      "cell_type": "markdown",
      "metadata": {
        "id": "Fav_zF42cGoP"
      },
      "source": [
        "Se identificaron un total de **46,999** Unigramas, incluyendo las marcas de inicio y fin de línea."
      ]
    },
    {
      "cell_type": "code",
      "metadata": {
        "id": "IIpK_YACYxNl"
      },
      "source": [
        "df = pd.DataFrame(Freq.most_common(), columns=['x','frecuency'])"
      ],
      "execution_count": null,
      "outputs": []
    },
    {
      "cell_type": "code",
      "metadata": {
        "colab": {
          "base_uri": "https://localhost:8080/",
          "height": 204
        },
        "id": "shbBR_b9dC6M",
        "outputId": "00d54527-c0df-4941-90ed-99e0e1b70f71"
      },
      "source": [
        "#Se genera la probabilidad de los Unigramas con base en su conteo y el total del número de palabras.\n",
        "df['P(Unigrama)'] = df['frecuency'] / len(corpus_completo)\n",
        "df.head()"
      ],
      "execution_count": null,
      "outputs": [
        {
          "output_type": "execute_result",
          "data": {
            "text/html": [
              "<div>\n",
              "<style scoped>\n",
              "    .dataframe tbody tr th:only-of-type {\n",
              "        vertical-align: middle;\n",
              "    }\n",
              "\n",
              "    .dataframe tbody tr th {\n",
              "        vertical-align: top;\n",
              "    }\n",
              "\n",
              "    .dataframe thead th {\n",
              "        text-align: right;\n",
              "    }\n",
              "</style>\n",
              "<table border=\"1\" class=\"dataframe\">\n",
              "  <thead>\n",
              "    <tr style=\"text-align: right;\">\n",
              "      <th></th>\n",
              "      <th>x</th>\n",
              "      <th>frecuency</th>\n",
              "      <th>P(Unigrama)</th>\n",
              "    </tr>\n",
              "  </thead>\n",
              "  <tbody>\n",
              "    <tr>\n",
              "      <th>0</th>\n",
              "      <td>de</td>\n",
              "      <td>173744</td>\n",
              "      <td>0.063579</td>\n",
              "    </tr>\n",
              "    <tr>\n",
              "      <th>1</th>\n",
              "      <td>la</td>\n",
              "      <td>117647</td>\n",
              "      <td>0.043051</td>\n",
              "    </tr>\n",
              "    <tr>\n",
              "      <th>2</th>\n",
              "      <td>&lt;s&gt;</td>\n",
              "      <td>100000</td>\n",
              "      <td>0.036593</td>\n",
              "    </tr>\n",
              "    <tr>\n",
              "      <th>3</th>\n",
              "      <td>&lt;/s&gt;</td>\n",
              "      <td>100000</td>\n",
              "      <td>0.036593</td>\n",
              "    </tr>\n",
              "    <tr>\n",
              "      <th>4</th>\n",
              "      <td>que</td>\n",
              "      <td>97197</td>\n",
              "      <td>0.035568</td>\n",
              "    </tr>\n",
              "  </tbody>\n",
              "</table>\n",
              "</div>"
            ],
            "text/plain": [
              "      x  frecuency  P(Unigrama)\n",
              "0    de     173744     0.063579\n",
              "1    la     117647     0.043051\n",
              "2   <s>     100000     0.036593\n",
              "3  </s>     100000     0.036593\n",
              "4   que      97197     0.035568"
            ]
          },
          "metadata": {},
          "execution_count": 19
        }
      ]
    },
    {
      "cell_type": "code",
      "metadata": {
        "colab": {
          "base_uri": "https://localhost:8080/",
          "height": 204
        },
        "id": "aLzSjW1aZel4",
        "outputId": "ce9f519e-a2b6-47ae-b2ce-fe89eabd3cb2"
      },
      "source": [
        "df.tail()"
      ],
      "execution_count": null,
      "outputs": [
        {
          "output_type": "execute_result",
          "data": {
            "text/html": [
              "<div>\n",
              "<style scoped>\n",
              "    .dataframe tbody tr th:only-of-type {\n",
              "        vertical-align: middle;\n",
              "    }\n",
              "\n",
              "    .dataframe tbody tr th {\n",
              "        vertical-align: top;\n",
              "    }\n",
              "\n",
              "    .dataframe thead th {\n",
              "        text-align: right;\n",
              "    }\n",
              "</style>\n",
              "<table border=\"1\" class=\"dataframe\">\n",
              "  <thead>\n",
              "    <tr style=\"text-align: right;\">\n",
              "      <th></th>\n",
              "      <th>x</th>\n",
              "      <th>frecuency</th>\n",
              "      <th>P(Unigrama)</th>\n",
              "    </tr>\n",
              "  </thead>\n",
              "  <tbody>\n",
              "    <tr>\n",
              "      <th>46994</th>\n",
              "      <td>persuasiva</td>\n",
              "      <td>1</td>\n",
              "      <td>3.659323e-07</td>\n",
              "    </tr>\n",
              "    <tr>\n",
              "      <th>46995</th>\n",
              "      <td>elaborador</td>\n",
              "      <td>1</td>\n",
              "      <td>3.659323e-07</td>\n",
              "    </tr>\n",
              "    <tr>\n",
              "      <th>46996</th>\n",
              "      <td>checks</td>\n",
              "      <td>1</td>\n",
              "      <td>3.659323e-07</td>\n",
              "    </tr>\n",
              "    <tr>\n",
              "      <th>46997</th>\n",
              "      <td>frenetica</td>\n",
              "      <td>1</td>\n",
              "      <td>3.659323e-07</td>\n",
              "    </tr>\n",
              "    <tr>\n",
              "      <th>46998</th>\n",
              "      <td>frenarla</td>\n",
              "      <td>1</td>\n",
              "      <td>3.659323e-07</td>\n",
              "    </tr>\n",
              "  </tbody>\n",
              "</table>\n",
              "</div>"
            ],
            "text/plain": [
              "                x  frecuency   P(Unigrama)\n",
              "46994  persuasiva          1  3.659323e-07\n",
              "46995  elaborador          1  3.659323e-07\n",
              "46996      checks          1  3.659323e-07\n",
              "46997   frenetica          1  3.659323e-07\n",
              "46998    frenarla          1  3.659323e-07"
            ]
          },
          "metadata": {},
          "execution_count": 20
        }
      ]
    },
    {
      "cell_type": "code",
      "metadata": {
        "colab": {
          "base_uri": "https://localhost:8080/",
          "height": 460
        },
        "id": "k2LJ5XWwsUNf",
        "outputId": "e8ba857e-996b-4e6b-82ab-e3fd8522b39f"
      },
      "source": [
        "#Se obtiene la gráfica de las primeras 20 frecuencias de palabras (unigramas) \n",
        "grafica = df[['x','frecuency']]\n",
        "grafica.iloc[0:20].plot.bar(x = 'x', rot = 0, color = 'gray', figsize=(15,7))"
      ],
      "execution_count": null,
      "outputs": [
        {
          "output_type": "execute_result",
          "data": {
            "text/plain": [
              "<matplotlib.axes._subplots.AxesSubplot at 0x7f1959eb11d0>"
            ]
          },
          "metadata": {},
          "execution_count": 21
        },
        {
          "output_type": "display_data",
          "data": {
            "image/png": "[encoded data removed]",
            "text/plain": [
              "<Figure size 1080x504 with 1 Axes>"
            ]
          },
          "metadata": {
            "needs_background": "light"
          }
        }
      ]
    },
    {
      "cell_type": "markdown",
      "metadata": {
        "id": "GRI5aO0fERdK"
      },
      "source": [
        "Procedemos a obtener los pares de palabras (bigrams) y sus frecuencias"
      ]
    },
    {
      "cell_type": "code",
      "metadata": {
        "id": "1BvwJPvWEPVK"
      },
      "source": [
        "#A partir del textos limpio, generamos las listas de pares de palabras (bigramas)\n",
        "bigramas = []\n",
        "pares = nltk.ngrams(corpus_completo, 2)\n",
        "for i in pares:\n",
        "  bigramas.append(i)"
      ],
      "execution_count": null,
      "outputs": []
    },
    {
      "cell_type": "code",
      "metadata": {
        "colab": {
          "base_uri": "https://localhost:8080/"
        },
        "id": "sTaSAsDoe_T3",
        "outputId": "dc610f57-d736-4cef-f6bb-9e3f0fd68dba"
      },
      "source": [
        "len(bigramas)"
      ],
      "execution_count": null,
      "outputs": [
        {
          "output_type": "execute_result",
          "data": {
            "text/plain": [
              "2732745"
            ]
          },
          "metadata": {},
          "execution_count": 23
        }
      ]
    },
    {
      "cell_type": "code",
      "metadata": {
        "colab": {
          "base_uri": "https://localhost:8080/"
        },
        "id": "Y6-m_ENCfHOf",
        "outputId": "6e2b5ecf-b9b4-4e1b-ec41-f5c5a80380db"
      },
      "source": [
        "bigramas[0:5]"
      ],
      "execution_count": null,
      "outputs": [
        {
          "output_type": "execute_result",
          "data": {
            "text/plain": [
              "[('<s>', 'declaro'),\n",
              " ('declaro', 'reanudado'),\n",
              " ('reanudado', 'el'),\n",
              " ('el', 'periodo'),\n",
              " ('periodo', 'de')]"
            ]
          },
          "metadata": {},
          "execution_count": 24
        }
      ]
    },
    {
      "cell_type": "code",
      "metadata": {
        "colab": {
          "base_uri": "https://localhost:8080/"
        },
        "id": "wFTumlE0fEB0",
        "outputId": "ed4e398b-ad93-41fc-92ff-7ccfa7f02dde"
      },
      "source": [
        "type(bigramas)"
      ],
      "execution_count": null,
      "outputs": [
        {
          "output_type": "execute_result",
          "data": {
            "text/plain": [
              "list"
            ]
          },
          "metadata": {},
          "execution_count": 25
        }
      ]
    },
    {
      "cell_type": "code",
      "metadata": {
        "id": "DqEI8SaZe5Dj"
      },
      "source": [
        "#Obtenemos la frecuencia de los pares de palabras de todo el corpus\n",
        "Freq_bigramas = nltk.FreqDist(bigramas)"
      ],
      "execution_count": null,
      "outputs": []
    },
    {
      "cell_type": "code",
      "metadata": {
        "colab": {
          "base_uri": "https://localhost:8080/"
        },
        "id": "-9iDlcWPfTJ0",
        "outputId": "c4dbb630-9781-4dce-dd7e-45dc3a2f3e3c"
      },
      "source": [
        "len(Freq_bigramas)"
      ],
      "execution_count": null,
      "outputs": [
        {
          "output_type": "execute_result",
          "data": {
            "text/plain": [
              "523313"
            ]
          },
          "metadata": {},
          "execution_count": 27
        }
      ]
    },
    {
      "cell_type": "code",
      "metadata": {
        "colab": {
          "base_uri": "https://localhost:8080/"
        },
        "id": "9GP50-ei0Py3",
        "outputId": "9334db2f-117e-41be-ae2d-1042676053ce"
      },
      "source": [
        "Freq_bigramas.max()"
      ],
      "execution_count": null,
      "outputs": [
        {
          "output_type": "execute_result",
          "data": {
            "text/plain": [
              "('</s>', '<s>')"
            ]
          },
          "metadata": {},
          "execution_count": 28
        }
      ]
    },
    {
      "cell_type": "markdown",
      "metadata": {
        "id": "jmIFH45QkW7P"
      },
      "source": [
        "Se obtuvieron un total de **523,313** Bigramas en todo el corpus, incluyendo las generadas con las marcas de inicio y fin de línea."
      ]
    },
    {
      "cell_type": "code",
      "metadata": {
        "colab": {
          "base_uri": "https://localhost:8080/",
          "height": 204
        },
        "id": "8xA1AQgJPjlp",
        "outputId": "9c5c3cec-1939-47a3-fda1-444279fc2746"
      },
      "source": [
        "df2 = pd.DataFrame(Freq_bigramas.most_common(), columns=['bigrama','frecuency'])\n",
        "df2.head()"
      ],
      "execution_count": null,
      "outputs": [
        {
          "output_type": "execute_result",
          "data": {
            "text/html": [
              "<div>\n",
              "<style scoped>\n",
              "    .dataframe tbody tr th:only-of-type {\n",
              "        vertical-align: middle;\n",
              "    }\n",
              "\n",
              "    .dataframe tbody tr th {\n",
              "        vertical-align: top;\n",
              "    }\n",
              "\n",
              "    .dataframe thead th {\n",
              "        text-align: right;\n",
              "    }\n",
              "</style>\n",
              "<table border=\"1\" class=\"dataframe\">\n",
              "  <thead>\n",
              "    <tr style=\"text-align: right;\">\n",
              "      <th></th>\n",
              "      <th>bigrama</th>\n",
              "      <th>frecuency</th>\n",
              "    </tr>\n",
              "  </thead>\n",
              "  <tbody>\n",
              "    <tr>\n",
              "      <th>0</th>\n",
              "      <td>(&lt;/s&gt;, &lt;s&gt;)</td>\n",
              "      <td>99999</td>\n",
              "    </tr>\n",
              "    <tr>\n",
              "      <th>1</th>\n",
              "      <td>(de, la)</td>\n",
              "      <td>30949</td>\n",
              "    </tr>\n",
              "    <tr>\n",
              "      <th>2</th>\n",
              "      <td>(de, los)</td>\n",
              "      <td>16069</td>\n",
              "    </tr>\n",
              "    <tr>\n",
              "      <th>3</th>\n",
              "      <td>(en, el)</td>\n",
              "      <td>13413</td>\n",
              "    </tr>\n",
              "    <tr>\n",
              "      <th>4</th>\n",
              "      <td>(a, la)</td>\n",
              "      <td>12405</td>\n",
              "    </tr>\n",
              "  </tbody>\n",
              "</table>\n",
              "</div>"
            ],
            "text/plain": [
              "       bigrama  frecuency\n",
              "0  (</s>, <s>)      99999\n",
              "1     (de, la)      30949\n",
              "2    (de, los)      16069\n",
              "3     (en, el)      13413\n",
              "4      (a, la)      12405"
            ]
          },
          "metadata": {},
          "execution_count": 29
        }
      ]
    },
    {
      "cell_type": "code",
      "metadata": {
        "colab": {
          "base_uri": "https://localhost:8080/",
          "height": 396
        },
        "id": "IMO0FI2qV1Dk",
        "outputId": "33a12903-dba7-42e8-c236-7c55f0fdcd6c"
      },
      "source": [
        "#Se obtiene la gráfica de las primeras 10 frecuencias de parejas de palabras (bigramas) \n",
        "df2.iloc[0:10].plot.bar(x = 'bigrama', rot = 0, color = 'gray', figsize=(20,7))"
      ],
      "execution_count": null,
      "outputs": [
        {
          "output_type": "execute_result",
          "data": {
            "text/plain": [
              "<matplotlib.axes._subplots.AxesSubplot at 0x7f1959e88250>"
            ]
          },
          "metadata": {},
          "execution_count": 30
        },
        {
          "output_type": "display_data",
          "data": {
            "image/png": "[encoded data removed]",
            "text/plain": [
              "<Figure size 1440x504 with 1 Axes>"
            ]
          },
          "metadata": {
            "needs_background": "light"
          }
        }
      ]
    },
    {
      "cell_type": "code",
      "metadata": {
        "id": "bOIvWcDAKjIa"
      },
      "source": [
        "dicc=dict(Freq_bigramas)"
      ],
      "execution_count": null,
      "outputs": []
    },
    {
      "cell_type": "code",
      "metadata": {
        "id": "CjamDV13HHpz"
      },
      "source": [
        "df2 = pd.DataFrame(list(dicc.items()), columns = ['bigrama','frecuency'])"
      ],
      "execution_count": null,
      "outputs": []
    },
    {
      "cell_type": "code",
      "metadata": {
        "colab": {
          "base_uri": "https://localhost:8080/",
          "height": 204
        },
        "id": "qBji8OFOHX-L",
        "outputId": "94054b33-def6-4eb0-94cf-05da31110c36"
      },
      "source": [
        "df2.head()"
      ],
      "execution_count": null,
      "outputs": [
        {
          "output_type": "execute_result",
          "data": {
            "text/html": [
              "<div>\n",
              "<style scoped>\n",
              "    .dataframe tbody tr th:only-of-type {\n",
              "        vertical-align: middle;\n",
              "    }\n",
              "\n",
              "    .dataframe tbody tr th {\n",
              "        vertical-align: top;\n",
              "    }\n",
              "\n",
              "    .dataframe thead th {\n",
              "        text-align: right;\n",
              "    }\n",
              "</style>\n",
              "<table border=\"1\" class=\"dataframe\">\n",
              "  <thead>\n",
              "    <tr style=\"text-align: right;\">\n",
              "      <th></th>\n",
              "      <th>bigrama</th>\n",
              "      <th>frecuency</th>\n",
              "    </tr>\n",
              "  </thead>\n",
              "  <tbody>\n",
              "    <tr>\n",
              "      <th>0</th>\n",
              "      <td>(&lt;s&gt;, declaro)</td>\n",
              "      <td>35</td>\n",
              "    </tr>\n",
              "    <tr>\n",
              "      <th>1</th>\n",
              "      <td>(declaro, reanudado)</td>\n",
              "      <td>13</td>\n",
              "    </tr>\n",
              "    <tr>\n",
              "      <th>2</th>\n",
              "      <td>(reanudado, el)</td>\n",
              "      <td>13</td>\n",
              "    </tr>\n",
              "    <tr>\n",
              "      <th>3</th>\n",
              "      <td>(el, periodo)</td>\n",
              "      <td>245</td>\n",
              "    </tr>\n",
              "    <tr>\n",
              "      <th>4</th>\n",
              "      <td>(periodo, de)</td>\n",
              "      <td>343</td>\n",
              "    </tr>\n",
              "  </tbody>\n",
              "</table>\n",
              "</div>"
            ],
            "text/plain": [
              "                bigrama  frecuency\n",
              "0        (<s>, declaro)         35\n",
              "1  (declaro, reanudado)         13\n",
              "2       (reanudado, el)         13\n",
              "3         (el, periodo)        245\n",
              "4         (periodo, de)        343"
            ]
          },
          "metadata": {},
          "execution_count": 33
        }
      ]
    },
    {
      "cell_type": "code",
      "metadata": {
        "colab": {
          "base_uri": "https://localhost:8080/"
        },
        "id": "R198HmrpIuUR",
        "outputId": "a9a1b0aa-1e43-4501-f680-6dc45e9e5b6a"
      },
      "source": [
        "df2.shape"
      ],
      "execution_count": null,
      "outputs": [
        {
          "output_type": "execute_result",
          "data": {
            "text/plain": [
              "(523313, 2)"
            ]
          },
          "metadata": {},
          "execution_count": 34
        }
      ]
    },
    {
      "cell_type": "markdown",
      "metadata": {
        "id": "qDYjFCFoT8R5"
      },
      "source": [
        "### 1. Se calculan los modelos de probabilidad MLE y MLE con suavizado de Laplace para un modelo de bigramas.\n",
        "\n",
        "A partir de la fórmula de probabilidad MLE:\n",
        "\n",
        "$$P(x|y) = C(xy)/C(x)$$\n",
        "\n",
        "y la fórmula de probabilidad ajustada (suavizado de Laplace):\n",
        "\n",
        "$$P_Lap(W_2|W_1)=(C(W_1W_2) + 1)/(C(W_1)+V)$$\n",
        "\n",
        "donde se agrega un dígito para que los eventos no vistos tengan al menos una ocurrencia.\n"
      ]
    },
    {
      "cell_type": "code",
      "metadata": {
        "id": "frZpiemWIzMi"
      },
      "source": [
        "#Se genera el conjunto de datos con todos los unigramas y bigramas obtenidos para sacar las Probabilidades \n",
        "#con base en la frecuencias de ambos.\n",
        "x = []\n",
        "y = []\n",
        "for i in Freq_bigramas.keys():\n",
        "  x.append(i[0])\n",
        "  y.append(i[1])\n",
        "df3 = pd.DataFrame(x, columns=['x'])\n",
        "df3['y'] = y\n",
        "df3['bigrama'] = df2['bigrama']\n",
        "df3['frecuency_bigrama'] = df2['frecuency']\n",
        "tabla = pd.merge(df, df3, on = 'x')\n",
        "#Obtenemos la probabilidad MLE del Bigrama\n",
        "tabla['P(bigrama)'] = tabla['frecuency_bigrama'] / tabla['frecuency']\n"
      ],
      "execution_count": null,
      "outputs": []
    },
    {
      "cell_type": "code",
      "metadata": {
        "colab": {
          "base_uri": "https://localhost:8080/",
          "height": 204
        },
        "id": "n9umXA_VJA06",
        "outputId": "ee26acf4-1200-4e75-ac30-a995f810b391"
      },
      "source": [
        "tabla.head()"
      ],
      "execution_count": null,
      "outputs": [
        {
          "output_type": "execute_result",
          "data": {
            "text/html": [
              "<div>\n",
              "<style scoped>\n",
              "    .dataframe tbody tr th:only-of-type {\n",
              "        vertical-align: middle;\n",
              "    }\n",
              "\n",
              "    .dataframe tbody tr th {\n",
              "        vertical-align: top;\n",
              "    }\n",
              "\n",
              "    .dataframe thead th {\n",
              "        text-align: right;\n",
              "    }\n",
              "</style>\n",
              "<table border=\"1\" class=\"dataframe\">\n",
              "  <thead>\n",
              "    <tr style=\"text-align: right;\">\n",
              "      <th></th>\n",
              "      <th>x</th>\n",
              "      <th>frecuency</th>\n",
              "      <th>P(Unigrama)</th>\n",
              "      <th>y</th>\n",
              "      <th>bigrama</th>\n",
              "      <th>frecuency_bigrama</th>\n",
              "      <th>P(bigrama)</th>\n",
              "    </tr>\n",
              "  </thead>\n",
              "  <tbody>\n",
              "    <tr>\n",
              "      <th>0</th>\n",
              "      <td>de</td>\n",
              "      <td>173744</td>\n",
              "      <td>0.063579</td>\n",
              "      <td>sesiones</td>\n",
              "      <td>(de, sesiones)</td>\n",
              "      <td>205</td>\n",
              "      <td>0.001180</td>\n",
              "    </tr>\n",
              "    <tr>\n",
              "      <th>1</th>\n",
              "      <td>de</td>\n",
              "      <td>173744</td>\n",
              "      <td>0.063579</td>\n",
              "      <td>diciembre</td>\n",
              "      <td>(de, diciembre)</td>\n",
              "      <td>137</td>\n",
              "      <td>0.000789</td>\n",
              "    </tr>\n",
              "    <tr>\n",
              "      <th>2</th>\n",
              "      <td>de</td>\n",
              "      <td>173744</td>\n",
              "      <td>0.063579</td>\n",
              "      <td>que</td>\n",
              "      <td>(de, que)</td>\n",
              "      <td>5853</td>\n",
              "      <td>0.033687</td>\n",
              "    </tr>\n",
              "    <tr>\n",
              "      <th>3</th>\n",
              "      <td>de</td>\n",
              "      <td>173744</td>\n",
              "      <td>0.063579</td>\n",
              "      <td>varios</td>\n",
              "      <td>(de, varios)</td>\n",
              "      <td>40</td>\n",
              "      <td>0.000230</td>\n",
              "    </tr>\n",
              "    <tr>\n",
              "      <th>4</th>\n",
              "      <td>de</td>\n",
              "      <td>173744</td>\n",
              "      <td>0.063579</td>\n",
              "      <td>nuestros</td>\n",
              "      <td>(de, nuestros)</td>\n",
              "      <td>428</td>\n",
              "      <td>0.002463</td>\n",
              "    </tr>\n",
              "  </tbody>\n",
              "</table>\n",
              "</div>"
            ],
            "text/plain": [
              "    x  frecuency  P(Unigrama)  ...          bigrama frecuency_bigrama  P(bigrama)\n",
              "0  de     173744     0.063579  ...   (de, sesiones)               205    0.001180\n",
              "1  de     173744     0.063579  ...  (de, diciembre)               137    0.000789\n",
              "2  de     173744     0.063579  ...        (de, que)              5853    0.033687\n",
              "3  de     173744     0.063579  ...     (de, varios)                40    0.000230\n",
              "4  de     173744     0.063579  ...   (de, nuestros)               428    0.002463\n",
              "\n",
              "[5 rows x 7 columns]"
            ]
          },
          "metadata": {},
          "execution_count": 36
        }
      ]
    },
    {
      "cell_type": "code",
      "metadata": {
        "colab": {
          "base_uri": "https://localhost:8080/",
          "height": 359
        },
        "id": "_VWgStdTJK4k",
        "outputId": "937fcd02-007d-4eaa-beb1-da0d65e67321"
      },
      "source": [
        "tabla.sample(10)"
      ],
      "execution_count": null,
      "outputs": [
        {
          "output_type": "execute_result",
          "data": {
            "text/html": [
              "<div>\n",
              "<style scoped>\n",
              "    .dataframe tbody tr th:only-of-type {\n",
              "        vertical-align: middle;\n",
              "    }\n",
              "\n",
              "    .dataframe tbody tr th {\n",
              "        vertical-align: top;\n",
              "    }\n",
              "\n",
              "    .dataframe thead th {\n",
              "        text-align: right;\n",
              "    }\n",
              "</style>\n",
              "<table border=\"1\" class=\"dataframe\">\n",
              "  <thead>\n",
              "    <tr style=\"text-align: right;\">\n",
              "      <th></th>\n",
              "      <th>x</th>\n",
              "      <th>frecuency</th>\n",
              "      <th>P(Unigrama)</th>\n",
              "      <th>y</th>\n",
              "      <th>bigrama</th>\n",
              "      <th>frecuency_bigrama</th>\n",
              "      <th>P(bigrama)</th>\n",
              "    </tr>\n",
              "  </thead>\n",
              "  <tbody>\n",
              "    <tr>\n",
              "      <th>2115</th>\n",
              "      <td>de</td>\n",
              "      <td>173744</td>\n",
              "      <td>0.063579</td>\n",
              "      <td>durar</td>\n",
              "      <td>(de, durar)</td>\n",
              "      <td>2</td>\n",
              "      <td>0.000012</td>\n",
              "    </tr>\n",
              "    <tr>\n",
              "      <th>287861</th>\n",
              "      <td>enormes</td>\n",
              "      <td>162</td>\n",
              "      <td>0.000059</td>\n",
              "      <td>transferencias</td>\n",
              "      <td>(enormes, transferencias)</td>\n",
              "      <td>1</td>\n",
              "      <td>0.006173</td>\n",
              "    </tr>\n",
              "    <tr>\n",
              "      <th>394106</th>\n",
              "      <td>recogen</td>\n",
              "      <td>29</td>\n",
              "      <td>0.000011</td>\n",
              "      <td>las</td>\n",
              "      <td>(recogen, las)</td>\n",
              "      <td>3</td>\n",
              "      <td>0.103448</td>\n",
              "    </tr>\n",
              "    <tr>\n",
              "      <th>134418</th>\n",
              "      <td>ue</td>\n",
              "      <td>1666</td>\n",
              "      <td>0.000610</td>\n",
              "      <td>celebrada</td>\n",
              "      <td>(ue, celebrada)</td>\n",
              "      <td>1</td>\n",
              "      <td>0.000600</td>\n",
              "    </tr>\n",
              "    <tr>\n",
              "      <th>369434</th>\n",
              "      <td>congreso</td>\n",
              "      <td>45</td>\n",
              "      <td>0.000016</td>\n",
              "      <td>federal</td>\n",
              "      <td>(congreso, federal)</td>\n",
              "      <td>1</td>\n",
              "      <td>0.022222</td>\n",
              "    </tr>\n",
              "    <tr>\n",
              "      <th>408035</th>\n",
              "      <td>especificidades</td>\n",
              "      <td>22</td>\n",
              "      <td>0.000008</td>\n",
              "      <td>&lt;/s&gt;</td>\n",
              "      <td>(especificidades, &lt;/s&gt;)</td>\n",
              "      <td>1</td>\n",
              "      <td>0.045455</td>\n",
              "    </tr>\n",
              "    <tr>\n",
              "      <th>346246</th>\n",
              "      <td>legitimidad</td>\n",
              "      <td>64</td>\n",
              "      <td>0.000023</td>\n",
              "      <td>decide</td>\n",
              "      <td>(legitimidad, decide)</td>\n",
              "      <td>1</td>\n",
              "      <td>0.015625</td>\n",
              "    </tr>\n",
              "    <tr>\n",
              "      <th>268419</th>\n",
              "      <td>critica</td>\n",
              "      <td>212</td>\n",
              "      <td>0.000078</td>\n",
              "      <td>autoincorporada</td>\n",
              "      <td>(critica, autoincorporada)</td>\n",
              "      <td>1</td>\n",
              "      <td>0.004717</td>\n",
              "    </tr>\n",
              "    <tr>\n",
              "      <th>233021</th>\n",
              "      <td>hayan</td>\n",
              "      <td>335</td>\n",
              "      <td>0.000123</td>\n",
              "      <td>hecho</td>\n",
              "      <td>(hayan, hecho)</td>\n",
              "      <td>9</td>\n",
              "      <td>0.026866</td>\n",
              "    </tr>\n",
              "    <tr>\n",
              "      <th>404257</th>\n",
              "      <td>periodicamente</td>\n",
              "      <td>24</td>\n",
              "      <td>0.000009</td>\n",
              "      <td>destruyen</td>\n",
              "      <td>(periodicamente, destruyen)</td>\n",
              "      <td>1</td>\n",
              "      <td>0.041667</td>\n",
              "    </tr>\n",
              "  </tbody>\n",
              "</table>\n",
              "</div>"
            ],
            "text/plain": [
              "                      x  frecuency  ...  frecuency_bigrama P(bigrama)\n",
              "2115                 de     173744  ...                  2   0.000012\n",
              "287861          enormes        162  ...                  1   0.006173\n",
              "394106          recogen         29  ...                  3   0.103448\n",
              "134418               ue       1666  ...                  1   0.000600\n",
              "369434         congreso         45  ...                  1   0.022222\n",
              "408035  especificidades         22  ...                  1   0.045455\n",
              "346246      legitimidad         64  ...                  1   0.015625\n",
              "268419          critica        212  ...                  1   0.004717\n",
              "233021            hayan        335  ...                  9   0.026866\n",
              "404257   periodicamente         24  ...                  1   0.041667\n",
              "\n",
              "[10 rows x 7 columns]"
            ]
          },
          "metadata": {},
          "execution_count": 37
        }
      ]
    },
    {
      "cell_type": "code",
      "metadata": {
        "colab": {
          "base_uri": "https://localhost:8080/",
          "height": 297
        },
        "id": "hLSO5s-9Uoux",
        "outputId": "8a2b0f09-388a-4c68-a21d-5be166568aa1"
      },
      "source": [
        "tabla.describe()"
      ],
      "execution_count": null,
      "outputs": [
        {
          "output_type": "execute_result",
          "data": {
            "text/html": [
              "<div>\n",
              "<style scoped>\n",
              "    .dataframe tbody tr th:only-of-type {\n",
              "        vertical-align: middle;\n",
              "    }\n",
              "\n",
              "    .dataframe tbody tr th {\n",
              "        vertical-align: top;\n",
              "    }\n",
              "\n",
              "    .dataframe thead th {\n",
              "        text-align: right;\n",
              "    }\n",
              "</style>\n",
              "<table border=\"1\" class=\"dataframe\">\n",
              "  <thead>\n",
              "    <tr style=\"text-align: right;\">\n",
              "      <th></th>\n",
              "      <th>frecuency</th>\n",
              "      <th>P(Unigrama)</th>\n",
              "      <th>frecuency_bigrama</th>\n",
              "      <th>P(bigrama)</th>\n",
              "    </tr>\n",
              "  </thead>\n",
              "  <tbody>\n",
              "    <tr>\n",
              "      <th>count</th>\n",
              "      <td>523313.000000</td>\n",
              "      <td>5.233130e+05</td>\n",
              "      <td>523313.000000</td>\n",
              "      <td>523313.000000</td>\n",
              "    </tr>\n",
              "    <tr>\n",
              "      <th>mean</th>\n",
              "      <td>9777.249971</td>\n",
              "      <td>3.577811e-03</td>\n",
              "      <td>5.222009</td>\n",
              "      <td>0.089810</td>\n",
              "    </tr>\n",
              "    <tr>\n",
              "      <th>std</th>\n",
              "      <td>29217.536374</td>\n",
              "      <td>1.069164e-02</td>\n",
              "      <td>158.533650</td>\n",
              "      <td>0.212683</td>\n",
              "    </tr>\n",
              "    <tr>\n",
              "      <th>min</th>\n",
              "      <td>1.000000</td>\n",
              "      <td>3.659323e-07</td>\n",
              "      <td>1.000000</td>\n",
              "      <td>0.000006</td>\n",
              "    </tr>\n",
              "    <tr>\n",
              "      <th>25%</th>\n",
              "      <td>30.000000</td>\n",
              "      <td>1.097797e-05</td>\n",
              "      <td>1.000000</td>\n",
              "      <td>0.000893</td>\n",
              "    </tr>\n",
              "    <tr>\n",
              "      <th>50%</th>\n",
              "      <td>232.000000</td>\n",
              "      <td>8.489629e-05</td>\n",
              "      <td>1.000000</td>\n",
              "      <td>0.006981</td>\n",
              "    </tr>\n",
              "    <tr>\n",
              "      <th>75%</th>\n",
              "      <td>1757.000000</td>\n",
              "      <td>6.429430e-04</td>\n",
              "      <td>2.000000</td>\n",
              "      <td>0.055556</td>\n",
              "    </tr>\n",
              "    <tr>\n",
              "      <th>max</th>\n",
              "      <td>173744.000000</td>\n",
              "      <td>6.357854e-02</td>\n",
              "      <td>99999.000000</td>\n",
              "      <td>1.000000</td>\n",
              "    </tr>\n",
              "  </tbody>\n",
              "</table>\n",
              "</div>"
            ],
            "text/plain": [
              "           frecuency   P(Unigrama)  frecuency_bigrama     P(bigrama)\n",
              "count  523313.000000  5.233130e+05      523313.000000  523313.000000\n",
              "mean     9777.249971  3.577811e-03           5.222009       0.089810\n",
              "std     29217.536374  1.069164e-02         158.533650       0.212683\n",
              "min         1.000000  3.659323e-07           1.000000       0.000006\n",
              "25%        30.000000  1.097797e-05           1.000000       0.000893\n",
              "50%       232.000000  8.489629e-05           1.000000       0.006981\n",
              "75%      1757.000000  6.429430e-04           2.000000       0.055556\n",
              "max    173744.000000  6.357854e-02       99999.000000       1.000000"
            ]
          },
          "metadata": {},
          "execution_count": 38
        }
      ]
    },
    {
      "cell_type": "code",
      "metadata": {
        "id": "yoi2XSPkv6Xn"
      },
      "source": [
        "#Calculamos la probabilidad del suavizado de Laplace:\n",
        "# Variable de todos los conteos\n",
        "V = len(Freq)\n",
        "tabla['P(suavizado)'] = (tabla['P(bigrama)']+1) / (tabla['frecuency'] + V)"
      ],
      "execution_count": null,
      "outputs": []
    },
    {
      "cell_type": "code",
      "metadata": {
        "colab": {
          "base_uri": "https://localhost:8080/",
          "height": 204
        },
        "id": "T4rrD8dyxMST",
        "outputId": "5643d117-03b8-4826-f87f-2b47c969ef9c"
      },
      "source": [
        "tabla.head()"
      ],
      "execution_count": null,
      "outputs": [
        {
          "output_type": "execute_result",
          "data": {
            "text/html": [
              "<div>\n",
              "<style scoped>\n",
              "    .dataframe tbody tr th:only-of-type {\n",
              "        vertical-align: middle;\n",
              "    }\n",
              "\n",
              "    .dataframe tbody tr th {\n",
              "        vertical-align: top;\n",
              "    }\n",
              "\n",
              "    .dataframe thead th {\n",
              "        text-align: right;\n",
              "    }\n",
              "</style>\n",
              "<table border=\"1\" class=\"dataframe\">\n",
              "  <thead>\n",
              "    <tr style=\"text-align: right;\">\n",
              "      <th></th>\n",
              "      <th>x</th>\n",
              "      <th>frecuency</th>\n",
              "      <th>P(Unigrama)</th>\n",
              "      <th>y</th>\n",
              "      <th>bigrama</th>\n",
              "      <th>frecuency_bigrama</th>\n",
              "      <th>P(bigrama)</th>\n",
              "      <th>P(suavizado)</th>\n",
              "    </tr>\n",
              "  </thead>\n",
              "  <tbody>\n",
              "    <tr>\n",
              "      <th>0</th>\n",
              "      <td>de</td>\n",
              "      <td>173744</td>\n",
              "      <td>0.063579</td>\n",
              "      <td>sesiones</td>\n",
              "      <td>(de, sesiones)</td>\n",
              "      <td>205</td>\n",
              "      <td>0.001180</td>\n",
              "      <td>0.000005</td>\n",
              "    </tr>\n",
              "    <tr>\n",
              "      <th>1</th>\n",
              "      <td>de</td>\n",
              "      <td>173744</td>\n",
              "      <td>0.063579</td>\n",
              "      <td>diciembre</td>\n",
              "      <td>(de, diciembre)</td>\n",
              "      <td>137</td>\n",
              "      <td>0.000789</td>\n",
              "      <td>0.000005</td>\n",
              "    </tr>\n",
              "    <tr>\n",
              "      <th>2</th>\n",
              "      <td>de</td>\n",
              "      <td>173744</td>\n",
              "      <td>0.063579</td>\n",
              "      <td>que</td>\n",
              "      <td>(de, que)</td>\n",
              "      <td>5853</td>\n",
              "      <td>0.033687</td>\n",
              "      <td>0.000005</td>\n",
              "    </tr>\n",
              "    <tr>\n",
              "      <th>3</th>\n",
              "      <td>de</td>\n",
              "      <td>173744</td>\n",
              "      <td>0.063579</td>\n",
              "      <td>varios</td>\n",
              "      <td>(de, varios)</td>\n",
              "      <td>40</td>\n",
              "      <td>0.000230</td>\n",
              "      <td>0.000005</td>\n",
              "    </tr>\n",
              "    <tr>\n",
              "      <th>4</th>\n",
              "      <td>de</td>\n",
              "      <td>173744</td>\n",
              "      <td>0.063579</td>\n",
              "      <td>nuestros</td>\n",
              "      <td>(de, nuestros)</td>\n",
              "      <td>428</td>\n",
              "      <td>0.002463</td>\n",
              "      <td>0.000005</td>\n",
              "    </tr>\n",
              "  </tbody>\n",
              "</table>\n",
              "</div>"
            ],
            "text/plain": [
              "    x  frecuency  P(Unigrama)  ... frecuency_bigrama P(bigrama)  P(suavizado)\n",
              "0  de     173744     0.063579  ...               205   0.001180      0.000005\n",
              "1  de     173744     0.063579  ...               137   0.000789      0.000005\n",
              "2  de     173744     0.063579  ...              5853   0.033687      0.000005\n",
              "3  de     173744     0.063579  ...                40   0.000230      0.000005\n",
              "4  de     173744     0.063579  ...               428   0.002463      0.000005\n",
              "\n",
              "[5 rows x 8 columns]"
            ]
          },
          "metadata": {},
          "execution_count": 44
        }
      ]
    },
    {
      "cell_type": "code",
      "metadata": {
        "colab": {
          "base_uri": "https://localhost:8080/",
          "height": 204
        },
        "id": "lf8v1Us2xRak",
        "outputId": "008d0523-f731-4c24-c877-5a185af1e853"
      },
      "source": [
        "tabla.tail()"
      ],
      "execution_count": null,
      "outputs": [
        {
          "output_type": "execute_result",
          "data": {
            "text/html": [
              "<div>\n",
              "<style scoped>\n",
              "    .dataframe tbody tr th:only-of-type {\n",
              "        vertical-align: middle;\n",
              "    }\n",
              "\n",
              "    .dataframe tbody tr th {\n",
              "        vertical-align: top;\n",
              "    }\n",
              "\n",
              "    .dataframe thead th {\n",
              "        text-align: right;\n",
              "    }\n",
              "</style>\n",
              "<table border=\"1\" class=\"dataframe\">\n",
              "  <thead>\n",
              "    <tr style=\"text-align: right;\">\n",
              "      <th></th>\n",
              "      <th>x</th>\n",
              "      <th>frecuency</th>\n",
              "      <th>P(Unigrama)</th>\n",
              "      <th>y</th>\n",
              "      <th>bigrama</th>\n",
              "      <th>frecuency_bigrama</th>\n",
              "      <th>P(bigrama)</th>\n",
              "      <th>P(suavizado)</th>\n",
              "    </tr>\n",
              "  </thead>\n",
              "  <tbody>\n",
              "    <tr>\n",
              "      <th>523308</th>\n",
              "      <td>persuasiva</td>\n",
              "      <td>1</td>\n",
              "      <td>3.659323e-07</td>\n",
              "      <td>en</td>\n",
              "      <td>(persuasiva, en)</td>\n",
              "      <td>1</td>\n",
              "      <td>1.0</td>\n",
              "      <td>0.000043</td>\n",
              "    </tr>\n",
              "    <tr>\n",
              "      <th>523309</th>\n",
              "      <td>elaborador</td>\n",
              "      <td>1</td>\n",
              "      <td>3.659323e-07</td>\n",
              "      <td>de</td>\n",
              "      <td>(elaborador, de)</td>\n",
              "      <td>1</td>\n",
              "      <td>1.0</td>\n",
              "      <td>0.000043</td>\n",
              "    </tr>\n",
              "    <tr>\n",
              "      <th>523310</th>\n",
              "      <td>checks</td>\n",
              "      <td>1</td>\n",
              "      <td>3.659323e-07</td>\n",
              "      <td>and</td>\n",
              "      <td>(checks, and)</td>\n",
              "      <td>1</td>\n",
              "      <td>1.0</td>\n",
              "      <td>0.000043</td>\n",
              "    </tr>\n",
              "    <tr>\n",
              "      <th>523311</th>\n",
              "      <td>frenetica</td>\n",
              "      <td>1</td>\n",
              "      <td>3.659323e-07</td>\n",
              "      <td>aceleracion</td>\n",
              "      <td>(frenetica, aceleracion)</td>\n",
              "      <td>1</td>\n",
              "      <td>1.0</td>\n",
              "      <td>0.000043</td>\n",
              "    </tr>\n",
              "    <tr>\n",
              "      <th>523312</th>\n",
              "      <td>frenarla</td>\n",
              "      <td>1</td>\n",
              "      <td>3.659323e-07</td>\n",
              "      <td>se</td>\n",
              "      <td>(frenarla, se)</td>\n",
              "      <td>1</td>\n",
              "      <td>1.0</td>\n",
              "      <td>0.000043</td>\n",
              "    </tr>\n",
              "  </tbody>\n",
              "</table>\n",
              "</div>"
            ],
            "text/plain": [
              "                 x  frecuency  ...  P(bigrama) P(suavizado)\n",
              "523308  persuasiva          1  ...         1.0     0.000043\n",
              "523309  elaborador          1  ...         1.0     0.000043\n",
              "523310      checks          1  ...         1.0     0.000043\n",
              "523311   frenetica          1  ...         1.0     0.000043\n",
              "523312    frenarla          1  ...         1.0     0.000043\n",
              "\n",
              "[5 rows x 8 columns]"
            ]
          },
          "metadata": {},
          "execution_count": 45
        }
      ]
    },
    {
      "cell_type": "code",
      "metadata": {
        "colab": {
          "base_uri": "https://localhost:8080/",
          "height": 297
        },
        "id": "2yB-zf1BxZSL",
        "outputId": "0c70a94e-3dcb-42d0-a82b-8c0464135a35"
      },
      "source": [
        "tabla.describe()"
      ],
      "execution_count": null,
      "outputs": [
        {
          "output_type": "execute_result",
          "data": {
            "text/html": [
              "<div>\n",
              "<style scoped>\n",
              "    .dataframe tbody tr th:only-of-type {\n",
              "        vertical-align: middle;\n",
              "    }\n",
              "\n",
              "    .dataframe tbody tr th {\n",
              "        vertical-align: top;\n",
              "    }\n",
              "\n",
              "    .dataframe thead th {\n",
              "        text-align: right;\n",
              "    }\n",
              "</style>\n",
              "<table border=\"1\" class=\"dataframe\">\n",
              "  <thead>\n",
              "    <tr style=\"text-align: right;\">\n",
              "      <th></th>\n",
              "      <th>frecuency</th>\n",
              "      <th>P(Unigrama)</th>\n",
              "      <th>frecuency_bigrama</th>\n",
              "      <th>P(bigrama)</th>\n",
              "      <th>P(suavizado)</th>\n",
              "    </tr>\n",
              "  </thead>\n",
              "  <tbody>\n",
              "    <tr>\n",
              "      <th>count</th>\n",
              "      <td>523313.000000</td>\n",
              "      <td>5.233130e+05</td>\n",
              "      <td>523313.000000</td>\n",
              "      <td>523313.000000</td>\n",
              "      <td>523313.000000</td>\n",
              "    </tr>\n",
              "    <tr>\n",
              "      <th>mean</th>\n",
              "      <td>9777.249971</td>\n",
              "      <td>3.577811e-03</td>\n",
              "      <td>5.222009</td>\n",
              "      <td>0.089810</td>\n",
              "      <td>0.000021</td>\n",
              "    </tr>\n",
              "    <tr>\n",
              "      <th>std</th>\n",
              "      <td>29217.536374</td>\n",
              "      <td>1.069164e-02</td>\n",
              "      <td>158.533650</td>\n",
              "      <td>0.212683</td>\n",
              "      <td>0.000007</td>\n",
              "    </tr>\n",
              "    <tr>\n",
              "      <th>min</th>\n",
              "      <td>1.000000</td>\n",
              "      <td>3.659323e-07</td>\n",
              "      <td>1.000000</td>\n",
              "      <td>0.000006</td>\n",
              "      <td>0.000005</td>\n",
              "    </tr>\n",
              "    <tr>\n",
              "      <th>25%</th>\n",
              "      <td>30.000000</td>\n",
              "      <td>1.097797e-05</td>\n",
              "      <td>1.000000</td>\n",
              "      <td>0.000893</td>\n",
              "      <td>0.000021</td>\n",
              "    </tr>\n",
              "    <tr>\n",
              "      <th>50%</th>\n",
              "      <td>232.000000</td>\n",
              "      <td>8.489629e-05</td>\n",
              "      <td>1.000000</td>\n",
              "      <td>0.006981</td>\n",
              "      <td>0.000021</td>\n",
              "    </tr>\n",
              "    <tr>\n",
              "      <th>75%</th>\n",
              "      <td>1757.000000</td>\n",
              "      <td>6.429430e-04</td>\n",
              "      <td>2.000000</td>\n",
              "      <td>0.055556</td>\n",
              "      <td>0.000022</td>\n",
              "    </tr>\n",
              "    <tr>\n",
              "      <th>max</th>\n",
              "      <td>173744.000000</td>\n",
              "      <td>6.357854e-02</td>\n",
              "      <td>99999.000000</td>\n",
              "      <td>1.000000</td>\n",
              "      <td>0.000043</td>\n",
              "    </tr>\n",
              "  </tbody>\n",
              "</table>\n",
              "</div>"
            ],
            "text/plain": [
              "           frecuency   P(Unigrama)  ...     P(bigrama)   P(suavizado)\n",
              "count  523313.000000  5.233130e+05  ...  523313.000000  523313.000000\n",
              "mean     9777.249971  3.577811e-03  ...       0.089810       0.000021\n",
              "std     29217.536374  1.069164e-02  ...       0.212683       0.000007\n",
              "min         1.000000  3.659323e-07  ...       0.000006       0.000005\n",
              "25%        30.000000  1.097797e-05  ...       0.000893       0.000021\n",
              "50%       232.000000  8.489629e-05  ...       0.006981       0.000021\n",
              "75%      1757.000000  6.429430e-04  ...       0.055556       0.000022\n",
              "max    173744.000000  6.357854e-02  ...       1.000000       0.000043\n",
              "\n",
              "[8 rows x 5 columns]"
            ]
          },
          "metadata": {},
          "execution_count": 46
        }
      ]
    },
    {
      "cell_type": "markdown",
      "metadata": {
        "id": "4Ih1LCGoyFLm"
      },
      "source": [
        "Al integrar el método del suavizado de Laplace, se puede apreciar que en la **Probabilidad MLE** $P(bigrama)$ los rangos de probabilidad son mayores,  a diferencia de la **Probabilidad de suavizado de Laplace** $P(suavizado)$, donde se normalizan los rangos de probabilidades."
      ]
    },
    {
      "cell_type": "markdown",
      "metadata": {
        "id": "gUkz9IDlr1pX"
      },
      "source": [
        "### 2. Se calcula si la siguientes oraciones son posibles, es decir, calcular las probabilidades de las siguientes oraciones usando el modelo de MLE y MLE con suavizado de Laplace. Comparar las probabilidades.\n",
        "\n",
        "  1. \"el parlamento debe enviar un mensaje\"\n",
        "  2. \"el parlamento debe enviar un consejo\"\n",
        "  3. \"el abismo entre ricos y pobres\"\n",
        "  4. \"el abismo entre pobres y ricos\"\n",
        "  5. \"la comisión debe ser totalmente transparente\"\n",
        "  6. \"la comisión debe ser transparente\""
      ]
    },
    {
      "cell_type": "code",
      "metadata": {
        "id": "qEZNLa-TzYbA"
      },
      "source": [
        "#Se definen variables para cada oración\n",
        "oracion1 = 'el parlamento debe enviar un mensaje'\n",
        "oracion2 = 'el parlamento debe enviar un consejo'\n",
        "oracion3 = 'el abismo entre ricos y pobres'\n",
        "oracion4 = 'el abismo entre pobres y ricos'\n",
        "oracion5 = 'la comision debe ser totalmente transparente'\n",
        "oracion6 = 'la comision debe ser transparente'"
      ],
      "execution_count": null,
      "outputs": []
    },
    {
      "cell_type": "code",
      "metadata": {
        "id": "jqupRCEHrml7"
      },
      "source": [
        "#Se busca la probabiLidad de cada palabra en el dataframe\n",
        "def calculaP(buscar):\n",
        "  i = 0\n",
        "  valor = 0\n",
        "  prob_total=[]\n",
        "  for i in range(len(buscar)-1):\n",
        "    probabilidad = tabla[(tabla['y'] == buscar[i+1]) & (tabla['x'] == buscar[i])] ['P(bigrama)']\n",
        "    print('Probabilidad de: \"',buscar[i+1],',', buscar[i], '\" es: ',np.float(probabilidad)) \n",
        "    prob_total.append(np.float(probabilidad))\n",
        "  for j in range(len(prob_total)):\n",
        "    valor = valor * prob_total[i] # LA MULTIPLICACIÓN FINAL DE LAS PROBABILIDADES DE CADA PALABRA, ME APARECE EN 0!!!!\n",
        "  #print('Probabilidad total: ','{:.30f}'.format(valor))\n",
        "  return(valor)"
      ],
      "execution_count": 166,
      "outputs": []
    },
    {
      "cell_type": "code",
      "metadata": {
        "colab": {
          "base_uri": "https://localhost:8080/"
        },
        "id": "dFPjcGjuKMaw",
        "outputId": "35a3661b-0780-4a2c-a05e-9433f34e8d1d"
      },
      "source": [
        "P1 = calculaP(list(oracion1.split(' ')))\n",
        "P1 = 1.25379296805115E-10\n",
        "print('Para la oración 1: ',oracion1,'. la Probabilidad MLE es:',float(P1),' Y la de Laplace: ',(float(P1)+1)/len(Freq))"
      ],
      "execution_count": 174,
      "outputs": [
        {
          "output_type": "stream",
          "name": "stdout",
          "text": [
            "Probabilidad de: \" parlamento , el \" es:  0.0412485734189035\n",
            "Probabilidad de: \" debe , parlamento \" es:  0.010309278350515464\n",
            "Probabilidad de: \" enviar , debe \" es:  0.0008086253369272237\n",
            "Probabilidad de: \" un , enviar \" es:  0.14285714285714285\n",
            "Probabilidad de: \" mensaje , un \" es:  0.0025523446963142413\n",
            "Para la oración 1:  el parlamento debe enviar un mensaje . la Probabilidad MLE es: 1.25379296805115e-10  Y la de Laplace:  2.1277048450507017e-05\n"
          ]
        }
      ]
    },
    {
      "cell_type": "code",
      "metadata": {
        "colab": {
          "base_uri": "https://localhost:8080/"
        },
        "id": "BMWIFo9NUMkY",
        "outputId": "8dc10669-684f-440a-882c-d6757aa8e3d7"
      },
      "source": [
        "P2 = calculaP(list(oracion2.split(' ')))\n",
        "P2 = 7.43775489521864E-11\n",
        "print('Para la oración 2: \"',oracion2,'\". la Probabilidad MLE es:',float(P2),' Y la de Laplace: ',(float(P2)+1)/len(Freq))"
      ],
      "execution_count": 178,
      "outputs": [
        {
          "output_type": "stream",
          "name": "stdout",
          "text": [
            "Probabilidad de: \" parlamento , el \" es:  0.0412485734189035\n",
            "Probabilidad de: \" debe , parlamento \" es:  0.010309278350515464\n",
            "Probabilidad de: \" enviar , debe \" es:  0.0008086253369272237\n",
            "Probabilidad de: \" un , enviar \" es:  0.14285714285714285\n",
            "Probabilidad de: \" consejo , un \" es:  0.0015141027859491261\n",
            "Para la oración 2: \" el parlamento debe enviar un consejo \". la Probabilidad MLE es: 7.43775489521864e-11  Y la de Laplace:  2.1277048449421853e-05\n"
          ]
        }
      ]
    },
    {
      "cell_type": "code",
      "metadata": {
        "colab": {
          "base_uri": "https://localhost:8080/"
        },
        "id": "BCz1fpUQXF4O",
        "outputId": "9f766f21-59e0-4f12-ce4b-9876ef21d34c"
      },
      "source": [
        "P3 = calculaP(list(oracion3.split(' ')))\n",
        "P3 = 8.70331696730159E-13\n",
        "print('Para la oración 3: \"',oracion3,'\". la Probabilidad MLE es:',float(P3),' Y la de Laplace: ',(float(P3)+1)/len(Freq))"
      ],
      "execution_count": 176,
      "outputs": [
        {
          "output_type": "stream",
          "name": "stdout",
          "text": [
            "Probabilidad de: \" abismo , el \" es:  0.00013339459603669833\n",
            "Probabilidad de: \" entre , abismo \" es:  0.14285714285714285\n",
            "Probabilidad de: \" ricos , entre \" es:  0.000992063492063492\n",
            "Probabilidad de: \" y , ricos \" es:  0.2835820895522388\n",
            "Probabilidad de: \" pobres , y \" es:  0.00016234029773210605\n",
            "Para la oración 3: \" el abismo entre ricos y pobres \". la Probabilidad MLE es: 8.70331696730159e-13  Y la de Laplace:  2.1277048447857837e-05\n"
          ]
        }
      ]
    },
    {
      "cell_type": "code",
      "metadata": {
        "colab": {
          "base_uri": "https://localhost:8080/"
        },
        "id": "FNP55rdIXMX8",
        "outputId": "3735532a-3771-4f09-e7c4-9b64e2ec1112"
      },
      "source": [
        "P4 = calculaP(list(oracion4.split(' ')))\n",
        "P4 = 7.91840460173575E-15\n",
        "print('Para la oración 4: \"',oracion4,'\". la Probabilidad MLE es:',float(P4),' Y la de Laplace: ',(float(P4)+1)/len(Freq))"
      ],
      "execution_count": 177,
      "outputs": [
        {
          "output_type": "stream",
          "name": "stdout",
          "text": [
            "Probabilidad de: \" abismo , el \" es:  0.00013339459603669833\n",
            "Probabilidad de: \" entre , abismo \" es:  0.14285714285714285\n",
            "Probabilidad de: \" pobres , entre \" es:  0.000248015873015873\n",
            "Probabilidad de: \" y , pobres \" es:  0.10320284697508897\n",
            "Probabilidad de: \" ricos , y \" es:  1.6234029773210604e-05\n",
            "Para la oración 4: \" el abismo entre pobres y ricos \". la Probabilidad MLE es: 7.91840460173575e-15  Y la de Laplace:  2.1277048447839487e-05\n"
          ]
        }
      ]
    },
    {
      "cell_type": "code",
      "metadata": {
        "colab": {
          "base_uri": "https://localhost:8080/"
        },
        "id": "FLH1IWM1XSBA",
        "outputId": "106c2b6f-baa9-4f25-bf4d-0adb5d99f31c"
      },
      "source": [
        "P5 = calculaP(list(oracion5.split(' ')))\n",
        "P5= 2.08517096835582E-09\n",
        "print('Para la oración 5: \"',oracion5,'\". la Probabilidad MLE es:',float(P5),' Y la de Laplace: ',(float(P5)+1)/len(Freq))"
      ],
      "execution_count": 179,
      "outputs": [
        {
          "output_type": "stream",
          "name": "stdout",
          "text": [
            "Probabilidad de: \" comision , la \" es:  0.09696804848402424\n",
            "Probabilidad de: \" debe , comision \" es:  0.010108481262327416\n",
            "Probabilidad de: \" ser , debe \" es:  0.15417789757412398\n",
            "Probabilidad de: \" totalmente , ser \" es:  0.002446782481037436\n",
            "Probabilidad de: \" transparente , totalmente \" es:  0.005639097744360902\n",
            "Para la oración 5: \" la comision debe ser totalmente transparente \". la Probabilidad MLE es: 2.08517096835582e-09  Y la de Laplace:  2.12770484922056e-05\n"
          ]
        }
      ]
    },
    {
      "cell_type": "code",
      "metadata": {
        "colab": {
          "base_uri": "https://localhost:8080/"
        },
        "id": "N_xbSpT4XXjX",
        "outputId": "7d3bab29-8954-4c51-c6bb-d7d98081883a"
      },
      "source": [
        "P6 = calculaP(list(oracion6.split(' ')))\n",
        "P6 = 1.47908127355373E-07\n",
        "print('Para la oración 6: \"',oracion6,'\". la Probabilidad MLE es:',float(P6),' Y la de Laplace: ',(float(P6)+1)/len(Freq))"
      ],
      "execution_count": 180,
      "outputs": [
        {
          "output_type": "stream",
          "name": "stdout",
          "text": [
            "Probabilidad de: \" comision , la \" es:  0.09696804848402424\n",
            "Probabilidad de: \" debe , comision \" es:  0.010108481262327416\n",
            "Probabilidad de: \" ser , debe \" es:  0.15417789757412398\n",
            "Probabilidad de: \" transparente , ser \" es:  0.0009787129924149743\n",
            "Para la oración 6: \" la comision debe ser transparente \". la Probabilidad MLE es: 1.47908127355373e-07  Y la de Laplace:  2.1277051594887708e-05\n"
          ]
        }
      ]
    },
    {
      "cell_type": "markdown",
      "metadata": {
        "id": "amhWNH5QfhNb"
      },
      "source": [
        "Se observa que de las oraciones dadas, la probabilidad de ocurrencia es muy baja y cuando se incorpora el método de suavizado de Laplace incrementa la probabilidad de ocurrencia."
      ]
    },
    {
      "cell_type": "markdown",
      "metadata": {
        "id": "AZR6NuOPZYsj"
      },
      "source": [
        "### 3. Por último se realiza la predicción de palabras, dada una palabra inicial mostrar las siguientes cinco palabras más probables de acuerdo con los modelos MLE y MLE con suavizado de Laplace."
      ]
    },
    {
      "cell_type": "code",
      "metadata": {
        "id": "jn79G6EsQV1P"
      },
      "source": [
        "#Se definen las palabras para calcular la predicción\n",
        "prediccion1 = 'los'\n",
        "prediccion2 = 'los tribunales'\n",
        "prediccion3 = 'los tribunales nacionales'\n",
        "prediccion4 = 'los tribunales nacionales tienen'\n",
        "prediccion5 = 'los tribunales nacionales tienen aspectos'"
      ],
      "execution_count": null,
      "outputs": []
    },
    {
      "cell_type": "markdown",
      "metadata": {
        "id": "8RcdwNI29ttA"
      },
      "source": [
        "#**Conclusión**\n",
        "Este ejercicio me permitió descubrir una manera de poder analizar el lenguaje, identificando asociaciones entre palabras.\n",
        "\n",
        "Volví a presentar dificultades para manejar los diferentes tipos de datos en Python, así como también en mandar llamar las diferentes librerías propuestas que nos permiten darle el tratamiento a los textos para realizar las asociación de palabras.(NLTK y pickle), sin embargo pude desarrollar los ejercicios.\n",
        "\n",
        "Adicionalmente tuve dificultad para presentar el valor total de MLE en el ejercicio 2, realicé las operaciones por fuera aunque si se muestra la fórmula empleada.\n",
        "\n",
        "Por falta de tiempo no concluí el ejercicio 3.\n",
        "\n",
        "\n"
      ]
    },
    {
      "cell_type": "markdown",
      "metadata": {
        "id": "h_DeNB_nDBdz"
      },
      "source": [
        "#**Bibliografía**\n",
        "\n",
        "> Jurafsky, Daniel y Martin, James H.**Speech and Language Processing** An Introduction to Natural Language Processing,\n",
        "Computational Linguistics, and Speech Recognition. Prentice Hall, 2008, Capítulo 4 N-grams. página 83 -108.\n",
        "\n",
        "> NLTK 3.6.2 documentation. https://www.nltk.org/\n",
        "\n",
        "\n"
      ]
    }
  ]
}