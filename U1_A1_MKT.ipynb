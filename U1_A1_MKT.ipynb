{
  "nbformat": 4,
  "nbformat_minor": 0,
  "metadata": {
    "colab": {
      "name": "U1_A1_MKT.ipynb",
      "provenance": [],
      "collapsed_sections": [],
      "authorship_tag": "ABX9TyP7v8a/NhZxIS+ZbKPd4A/m",
      "include_colab_link": true
    },
    "kernelspec": {
      "name": "python3",
      "display_name": "Python 3"
    },
    "language_info": {
      "name": "python"
    }
  },
  "cells": [
    {
      "cell_type": "markdown",
      "metadata": {
        "id": "view-in-github",
        "colab_type": "text"
      },
      "source": [
        "<a href=\"https://colab.research.google.com/github/mkteranb/Ghostblog/blob/master/U1_A1_MKT.ipynb\" target=\"_parent\"><img src=\"https://colab.research.google.com/assets/colab-badge.svg\" alt=\"Open In Colab\"/></a>"
      ]
    },
    {
      "cell_type": "markdown",
      "metadata": {
        "id": "VfaN8RpOl6pm"
      },
      "source": [
        "# Maestría de Ciencias de Datos e Información\n",
        "\n",
        "**Martha Karina Terán Botello**\n",
        "\n",
        "**Análisis de Algoritmos y Estructuras para Datos Masivos 2021-2**\n",
        "\n",
        "**Unidad 2. Análisis de la eficiencia de un algoritmo**\n",
        "\n",
        "**Actividad 1. Reporte de notebook de Jupyter**\n",
        "\n",
        "*Agosto, 10 2021*\n",
        "\n",
        "\n"
      ]
    },
    {
      "cell_type": "code",
      "metadata": {
        "id": "_Lh9dvsVt7Mc"
      },
      "source": [
        "import numpy as np\n",
        "import pandas as pd\n",
        "import matplotlib.pyplot as plt\n",
        "import seaborn as sns\n",
        "from scipy.special import factorial\n",
        "import math"
      ],
      "execution_count": null,
      "outputs": []
    },
    {
      "cell_type": "markdown",
      "metadata": {
        "id": "62fiW8kAmoBc"
      },
      "source": [
        "# Introducción\n",
        "\n",
        "El tiempo de ejecución de un algoritmo en una entrada particular es el número de operaciones o pasos ejecutados.\n",
        "\n",
        "A través de las siguientes líneas de código, se realiza la comparación de las órdenes de crecimiento:\n",
        "\n",
        "              Orden                   Descripción\n",
        "             --------------------------------------------------- \n",
        "             O(1)                Crecimiento constante\n",
        "             O(n)                Crecimiento lineal\n",
        "             O(log n)            Crecimiento logarítmico\n",
        "             O(n log n)          Crecimiento logarítmico-lineal\n",
        "             O(n^2)              Crecimiento cuadrático\n",
        "             O(n^3)              Crecimiento cúbico\n",
        "             a^n                 Crecimiento exponencial\n",
        "             n!                  Crecimiento factorial            \n",
        "\n",
        "Esto se utiliza para determinar que tan eficiente puede ser la ejecución de un algoritmo, identificando de qué tipo es."
      ]
    },
    {
      "cell_type": "code",
      "metadata": {
        "id": "PY8vT-S8gJwM"
      },
      "source": [
        "x = list(range(1, 10, 1))\n",
        "o = []\n",
        "for one in range(9):\n",
        "  o.append(1)"
      ],
      "execution_count": null,
      "outputs": []
    },
    {
      "cell_type": "code",
      "metadata": {
        "id": "F82gPyRIi8Pt"
      },
      "source": [
        "#Creamos la matriz de datos\n",
        "df = pd.DataFrame({\n",
        "                  'Oi': list(o),\n",
        "                   'n': list(range(1, 10, 1)),\n",
        "                   'logn': list([np.log(n) for n in x]),             \n",
        "                   })"
      ],
      "execution_count": null,
      "outputs": []
    },
    {
      "cell_type": "code",
      "metadata": {
        "id": "YG2rrIRjglEZ"
      },
      "source": [
        "#Generamos los valores de cada orden de crecimiento y lo guardamos en la matriz de datos\n",
        "df['nlogn'] = df.n * df.logn\n",
        "df['n2'] = df.n * df.n\n",
        "df['n3'] = df.n * df.n * df.n\n",
        "df['an'] = np.power(3,df.n)\n",
        "df['nfac'] = factorial(df.n)\n",
        "df['nn'] = np.power(df.n,df.n)"
      ],
      "execution_count": null,
      "outputs": []
    },
    {
      "cell_type": "code",
      "metadata": {
        "colab": {
          "base_uri": "https://localhost:8080/",
          "height": 328
        },
        "id": "jq1x1UctSH0j",
        "outputId": "4a71e0e8-c331-4758-9be3-60ca55d2eeb5"
      },
      "source": [
        "#Se despliega la matriz de datos para cada orden de crecimiento generada\n",
        "df"
      ],
      "execution_count": null,
      "outputs": [
        {
          "output_type": "execute_result",
          "data": {
            "text/html": [
              "<div>\n",
              "<style scoped>\n",
              "    .dataframe tbody tr th:only-of-type {\n",
              "        vertical-align: middle;\n",
              "    }\n",
              "\n",
              "    .dataframe tbody tr th {\n",
              "        vertical-align: top;\n",
              "    }\n",
              "\n",
              "    .dataframe thead th {\n",
              "        text-align: right;\n",
              "    }\n",
              "</style>\n",
              "<table border=\"1\" class=\"dataframe\">\n",
              "  <thead>\n",
              "    <tr style=\"text-align: right;\">\n",
              "      <th></th>\n",
              "      <th>Oi</th>\n",
              "      <th>n</th>\n",
              "      <th>logn</th>\n",
              "      <th>nlogn</th>\n",
              "      <th>n2</th>\n",
              "      <th>n3</th>\n",
              "      <th>an</th>\n",
              "      <th>nfac</th>\n",
              "      <th>nn</th>\n",
              "    </tr>\n",
              "  </thead>\n",
              "  <tbody>\n",
              "    <tr>\n",
              "      <th>0</th>\n",
              "      <td>1</td>\n",
              "      <td>1</td>\n",
              "      <td>0.000000</td>\n",
              "      <td>0.000000</td>\n",
              "      <td>1</td>\n",
              "      <td>1</td>\n",
              "      <td>3</td>\n",
              "      <td>1.0</td>\n",
              "      <td>1</td>\n",
              "    </tr>\n",
              "    <tr>\n",
              "      <th>1</th>\n",
              "      <td>1</td>\n",
              "      <td>2</td>\n",
              "      <td>0.693147</td>\n",
              "      <td>1.386294</td>\n",
              "      <td>4</td>\n",
              "      <td>8</td>\n",
              "      <td>9</td>\n",
              "      <td>2.0</td>\n",
              "      <td>4</td>\n",
              "    </tr>\n",
              "    <tr>\n",
              "      <th>2</th>\n",
              "      <td>1</td>\n",
              "      <td>3</td>\n",
              "      <td>1.098612</td>\n",
              "      <td>3.295837</td>\n",
              "      <td>9</td>\n",
              "      <td>27</td>\n",
              "      <td>27</td>\n",
              "      <td>6.0</td>\n",
              "      <td>27</td>\n",
              "    </tr>\n",
              "    <tr>\n",
              "      <th>3</th>\n",
              "      <td>1</td>\n",
              "      <td>4</td>\n",
              "      <td>1.386294</td>\n",
              "      <td>5.545177</td>\n",
              "      <td>16</td>\n",
              "      <td>64</td>\n",
              "      <td>81</td>\n",
              "      <td>24.0</td>\n",
              "      <td>256</td>\n",
              "    </tr>\n",
              "    <tr>\n",
              "      <th>4</th>\n",
              "      <td>1</td>\n",
              "      <td>5</td>\n",
              "      <td>1.609438</td>\n",
              "      <td>8.047190</td>\n",
              "      <td>25</td>\n",
              "      <td>125</td>\n",
              "      <td>243</td>\n",
              "      <td>120.0</td>\n",
              "      <td>3125</td>\n",
              "    </tr>\n",
              "    <tr>\n",
              "      <th>5</th>\n",
              "      <td>1</td>\n",
              "      <td>6</td>\n",
              "      <td>1.791759</td>\n",
              "      <td>10.750557</td>\n",
              "      <td>36</td>\n",
              "      <td>216</td>\n",
              "      <td>729</td>\n",
              "      <td>720.0</td>\n",
              "      <td>46656</td>\n",
              "    </tr>\n",
              "    <tr>\n",
              "      <th>6</th>\n",
              "      <td>1</td>\n",
              "      <td>7</td>\n",
              "      <td>1.945910</td>\n",
              "      <td>13.621371</td>\n",
              "      <td>49</td>\n",
              "      <td>343</td>\n",
              "      <td>2187</td>\n",
              "      <td>5040.0</td>\n",
              "      <td>823543</td>\n",
              "    </tr>\n",
              "    <tr>\n",
              "      <th>7</th>\n",
              "      <td>1</td>\n",
              "      <td>8</td>\n",
              "      <td>2.079442</td>\n",
              "      <td>16.635532</td>\n",
              "      <td>64</td>\n",
              "      <td>512</td>\n",
              "      <td>6561</td>\n",
              "      <td>40320.0</td>\n",
              "      <td>16777216</td>\n",
              "    </tr>\n",
              "    <tr>\n",
              "      <th>8</th>\n",
              "      <td>1</td>\n",
              "      <td>9</td>\n",
              "      <td>2.197225</td>\n",
              "      <td>19.775021</td>\n",
              "      <td>81</td>\n",
              "      <td>729</td>\n",
              "      <td>19683</td>\n",
              "      <td>362880.0</td>\n",
              "      <td>387420489</td>\n",
              "    </tr>\n",
              "  </tbody>\n",
              "</table>\n",
              "</div>"
            ],
            "text/plain": [
              "   Oi  n      logn      nlogn  n2   n3     an      nfac         nn\n",
              "0   1  1  0.000000   0.000000   1    1      3       1.0          1\n",
              "1   1  2  0.693147   1.386294   4    8      9       2.0          4\n",
              "2   1  3  1.098612   3.295837   9   27     27       6.0         27\n",
              "3   1  4  1.386294   5.545177  16   64     81      24.0        256\n",
              "4   1  5  1.609438   8.047190  25  125    243     120.0       3125\n",
              "5   1  6  1.791759  10.750557  36  216    729     720.0      46656\n",
              "6   1  7  1.945910  13.621371  49  343   2187    5040.0     823543\n",
              "7   1  8  2.079442  16.635532  64  512   6561   40320.0   16777216\n",
              "8   1  9  2.197225  19.775021  81  729  19683  362880.0  387420489"
            ]
          },
          "metadata": {
            "tags": []
          },
          "execution_count": 6
        }
      ]
    },
    {
      "cell_type": "markdown",
      "metadata": {
        "id": "T1iKZpnFI_8_"
      },
      "source": [
        "# **Desarrollo**\n"
      ]
    },
    {
      "cell_type": "markdown",
      "metadata": {
        "id": "8bALy10ChqiG"
      },
      "source": [
        "\n",
        "# Comparaciones de órdenes de crecimiento"
      ]
    },
    {
      "cell_type": "code",
      "metadata": {
        "colab": {
          "base_uri": "https://localhost:8080/",
          "height": 295
        },
        "id": "mtO4eM2pondg",
        "outputId": "3aa25969-54ae-44a6-8755-e0b683c3fc4a"
      },
      "source": [
        "#Se grafica la figura 1 con la comparación de valor constante y logarítmico\n",
        "plt.title('Figura 1. O(1) vs O(log n)')\n",
        "plt.xlabel('n')\n",
        "plt.ylabel('y')\n",
        "plt.plot(df.Oi, label = 'Oi')\n",
        "plt.annotate('O(1)', xy=(8,2), xytext=(6,1.1))\n",
        "plt.plot(df.logn)\n",
        "plt.annotate('O(log n)', xy=(8,2), xytext=(7,2))\n",
        "plt.show()"
      ],
      "execution_count": null,
      "outputs": [
        {
          "output_type": "display_data",
          "data": {
            "image/png": "[encoded data removed]",
            "text/plain": [
              "<Figure size 432x288 with 1 Axes>"
            ]
          },
          "metadata": {
            "tags": [],
            "needs_background": "light"
          }
        }
      ]
    },
    {
      "cell_type": "markdown",
      "metadata": {
        "id": "tx6PvXvPcfCs"
      },
      "source": [
        "La comparación de la **Figura 1** nos indica que **O(1)** es del tipo de algoritmos por ejemplo una búsqueda secuencial (constante), mientras que en **O (log n)** se incrementa el valor, como por ejemplo en búsquedas binarias.  "
      ]
    },
    {
      "cell_type": "code",
      "metadata": {
        "colab": {
          "base_uri": "https://localhost:8080/",
          "height": 295
        },
        "id": "aJsJ5Z6-eKyF",
        "outputId": "41674460-7119-431e-ea1a-295034875396"
      },
      "source": [
        "plt.title('Figura 2. O(n) vs O(nlogn)')\n",
        "plt.xlabel('n')\n",
        "plt.ylabel('y')\n",
        "plt.plot(df.n, label = 'O(n)')\n",
        "plt.annotate('O(n)', xy=(8,6), xytext=(7,7))\n",
        "plt.plot(df.nlogn)\n",
        "plt.annotate('O(n log n)', xy=(8,2), xytext=(6.5,14))\n",
        "plt.show()"
      ],
      "execution_count": null,
      "outputs": [
        {
          "output_type": "display_data",
          "data": {
            "image/png": "[encoded data removed]",
            "text/plain": [
              "<Figure size 432x288 with 1 Axes>"
            ]
          },
          "metadata": {
            "tags": [],
            "needs_background": "light"
          }
        }
      ]
    },
    {
      "cell_type": "markdown",
      "metadata": {
        "id": "hUtYHW_BG_6F"
      },
      "source": [
        "La comparación de la **Figura 2** nos indica que **O(n)** es del tipo de algoritmos que se ejecuta en tiempo que crece en la misma proporción (lineal), mientras que en **O (n log n)**, por ejemplo el ordenamiento de un arbol binario, con operaciones secuenciales (binarias) que se ejecuten O(log n) n veces."
      ]
    },
    {
      "cell_type": "code",
      "metadata": {
        "colab": {
          "base_uri": "https://localhost:8080/",
          "height": 295
        },
        "id": "A3_4ckWzs8Nq",
        "outputId": "ec4306d5-b267-4071-c8ce-2825009ab7bf"
      },
      "source": [
        "plt.title('Figura 3. O(n^2) vs O(n^3)')\n",
        "plt.xlabel('n')\n",
        "plt.ylabel('y')\n",
        "plt.plot(df.n, df.n2, label = 'O(n 2)')\n",
        "plt.annotate('O(n^2)', xy=(8,6), xytext=(8,100))\n",
        "plt.plot(df.n, df.n3 )\n",
        "plt.annotate('O(n^3)', xy=(8,2), xytext=(7,540))\n",
        "plt.show()"
      ],
      "execution_count": null,
      "outputs": [
        {
          "output_type": "display_data",
          "data": {
            "image/png": "[encoded data removed]",
            "text/plain": [
              "<Figure size 432x288 with 1 Axes>"
            ]
          },
          "metadata": {
            "tags": [],
            "needs_background": "light"
          }
        }
      ]
    },
    {
      "cell_type": "markdown",
      "metadata": {
        "id": "2PntMlpWKNMS"
      },
      "source": [
        "La comparación de la **Figura 3** nos indica que **O(n^2)** es del tipo de algoritmos cuadráticos, por ejemplo una comparación anidada. El **O (n^3)** es de hasta 3 niveles de anidación por eso se hace más complejo y toma más tiempo."
      ]
    },
    {
      "cell_type": "code",
      "metadata": {
        "colab": {
          "base_uri": "https://localhost:8080/",
          "height": 295
        },
        "id": "1wGnjGVdwzm-",
        "outputId": "c63bcb67-6f3c-4236-dfe7-7cb71b6b1f7f"
      },
      "source": [
        "plt.title('Figura 4. a^n vs n!')\n",
        "plt.xlabel('n')\n",
        "plt.ylabel('y')\n",
        "plt.plot(df.an, label = 'a^n')\n",
        "plt.annotate('n!', xy=(8,10), xytext=(8,350300))\n",
        "plt.plot(df.nfac)\n",
        "plt.annotate('a^n', xy=(5,30), xytext=(7.5,30000))\n",
        "plt.show()"
      ],
      "execution_count": null,
      "outputs": [
        {
          "output_type": "display_data",
          "data": {
            "image/png": "[encoded data removed]",
            "text/plain": [
              "<Figure size 432x288 with 1 Axes>"
            ]
          },
          "metadata": {
            "tags": [],
            "needs_background": "light"
          }
        }
      ]
    },
    {
      "cell_type": "markdown",
      "metadata": {
        "id": "SY63AGLBWMMk"
      },
      "source": [
        "La comparación de la **Figura 4** nos indica que **O(a^n)** es un algoritmo de tipo exponencial, por ejemplo el código de la serie de Fibonacci, el cual genera 2 recursividades en cada ejecución. El **O (n!)** es factorial por ejemplo un algoritmo que se mande llamar a si mismo, lo que lo hace que tome más tiempo."
      ]
    },
    {
      "cell_type": "code",
      "metadata": {
        "colab": {
          "base_uri": "https://localhost:8080/",
          "height": 295
        },
        "id": "J5JqS0JfyfqJ",
        "outputId": "9fd16edf-9b45-4e0c-fdb0-e0c149b39c08"
      },
      "source": [
        "plt.title('Figura 5. n! vs n^n')\n",
        "plt.xlabel('n')\n",
        "plt.ylabel('y')\n",
        "plt.plot(df.nfac)\n",
        "plt.annotate('n!', xy=(5,30), xytext=(7.5,5000000))\n",
        "plt.plot(df.nn)\n",
        "plt.annotate('n^n', xy=(8,10), xytext=(7,387420489))\n",
        "plt.show()"
      ],
      "execution_count": null,
      "outputs": [
        {
          "output_type": "display_data",
          "data": {
            "image/png": "[encoded data removed]",
            "text/plain": [
              "<Figure size 432x288 with 1 Axes>"
            ]
          },
          "metadata": {
            "tags": [],
            "needs_background": "light"
          }
        }
      ]
    },
    {
      "cell_type": "markdown",
      "metadata": {
        "id": "5TmUaJycYjWp"
      },
      "source": [
        "Por último, la comparación de la **Figura 5** nos indica que **O(n!)** que es de tipo factorial (un algoritmo que se mande llamar a si mismo n veces). El **O (n^n)** "
      ]
    },
    {
      "cell_type": "markdown",
      "metadata": {
        "id": "_I0ZFjXZcZv8"
      },
      "source": [
        "# Simulación de costo"
      ]
    },
    {
      "cell_type": "code",
      "metadata": {
        "id": "LVKHTUCMceHG"
      },
      "source": [
        "x = list(range(1, 100000, 1))\n",
        "o = []\n",
        "for one in range(99999):\n",
        "  o.append(1)\n",
        "#Creamos la matriz de datos para costo\n",
        "matriz = pd.DataFrame({\n",
        "                  'Oi': list(o),\n",
        "                   'n': list(range(1, 100000, 1)),\n",
        "                   'logn': list([np.log(n) for n in x]),             \n",
        "                   })\n",
        "#Generamos los valores de cada orden de crecimiento y lo guardamos en la matriz de costos\n",
        "matriz['nlogn'] = matriz.n * matriz.logn\n",
        "matriz['n2'] = matriz.n * matriz.n\n",
        "matriz['n3'] = matriz.n * matriz.n * matriz.n\n",
        "matriz['an'] = np.power(3,matriz.n)\n",
        "matriz['nfac'] = factorial(matriz.n)\n",
        "matriz['nn'] = np.power(matriz.n,matriz.n)"
      ],
      "execution_count": null,
      "outputs": []
    },
    {
      "cell_type": "code",
      "metadata": {
        "colab": {
          "base_uri": "https://localhost:8080/"
        },
        "id": "2l3W5HR3dA_4",
        "outputId": "9d2f8461-b75d-4baf-92f2-17dea55f37c6"
      },
      "source": [
        "matriz.loc[99]"
      ],
      "execution_count": null,
      "outputs": [
        {
          "output_type": "execute_result",
          "data": {
            "text/plain": [
              "Oi        1.000000e+00\n",
              "n         1.000000e+02\n",
              "logn      4.605170e+00\n",
              "nlogn     4.605170e+02\n",
              "n2        1.000000e+04\n",
              "n3        1.000000e+06\n",
              "an       -2.984623e+18\n",
              "nfac     9.332622e+157\n",
              "nn        0.000000e+00\n",
              "Name: 99, dtype: float64"
            ]
          },
          "metadata": {
            "tags": []
          },
          "execution_count": 56
        }
      ]
    },
    {
      "cell_type": "code",
      "metadata": {
        "colab": {
          "base_uri": "https://localhost:8080/"
        },
        "id": "ZI9OVdSefZKw",
        "outputId": "b8544168-a33d-46f9-c9bc-10ec2fb565a7"
      },
      "source": [
        "matriz.loc[999]"
      ],
      "execution_count": null,
      "outputs": [
        {
          "output_type": "execute_result",
          "data": {
            "text/plain": [
              "Oi       1.000000e+00\n",
              "n        1.000000e+03\n",
              "logn     6.907755e+00\n",
              "nlogn    6.907755e+03\n",
              "n2       1.000000e+06\n",
              "n3       1.000000e+09\n",
              "an       6.203308e+18\n",
              "nfac              inf\n",
              "nn       0.000000e+00\n",
              "Name: 999, dtype: float64"
            ]
          },
          "metadata": {
            "tags": []
          },
          "execution_count": 57
        }
      ]
    },
    {
      "cell_type": "code",
      "metadata": {
        "colab": {
          "base_uri": "https://localhost:8080/"
        },
        "id": "oghbbaSufijK",
        "outputId": "95e1fd46-4dda-44aa-dca7-4ca8e95086e7"
      },
      "source": [
        "matriz.loc[9999]"
      ],
      "execution_count": null,
      "outputs": [
        {
          "output_type": "execute_result",
          "data": {
            "text/plain": [
              "Oi       1.000000e+00\n",
              "n        1.000000e+04\n",
              "logn     9.210340e+00\n",
              "nlogn    9.210340e+04\n",
              "n2       1.000000e+08\n",
              "n3       1.000000e+12\n",
              "an       7.812936e+17\n",
              "nfac              inf\n",
              "nn       0.000000e+00\n",
              "Name: 9999, dtype: float64"
            ]
          },
          "metadata": {
            "tags": []
          },
          "execution_count": 58
        }
      ]
    },
    {
      "cell_type": "code",
      "metadata": {
        "colab": {
          "base_uri": "https://localhost:8080/"
        },
        "id": "IjP-G0rpfm3V",
        "outputId": "63da149f-4ed2-4410-fdbb-d631559ecf04"
      },
      "source": [
        "matriz.loc[99998]"
      ],
      "execution_count": null,
      "outputs": [
        {
          "output_type": "execute_result",
          "data": {
            "text/plain": [
              "Oi       1.000000e+00\n",
              "n        9.999900e+04\n",
              "logn     1.151292e+01\n",
              "nlogn    1.151280e+06\n",
              "n2       9.999800e+09\n",
              "n3       9.999700e+14\n",
              "an      -1.221728e+18\n",
              "nfac              inf\n",
              "nn       7.466110e+18\n",
              "Name: 99998, dtype: float64"
            ]
          },
          "metadata": {
            "tags": []
          },
          "execution_count": 65
        }
      ]
    },
    {
      "cell_type": "markdown",
      "metadata": {
        "id": "T9VysRIgn-Ze"
      },
      "source": [
        "# Conclusión\n",
        "De la revisión de estos diferentes tipos de algoritmo se puede concluir que es muy útil hacer el análisis del costo de cada tipo de algoritmo, para identificar las mejoras que se puedan realizar y de esta manera eficientar el algoritmo. También identifico que hay algoritmos muy costosos por ejemplo los de tipo factorial. Toda vez que podamos medir el tiempo del algoritmo, se puede optimizar."
      ]
    },
    {
      "cell_type": "markdown",
      "metadata": {
        "id": "onGDfKQeoIfT"
      },
      "source": [
        "# Referencias Bibliográficas\n",
        "\n",
        "\n",
        "\n",
        "> Cormen, Thomas H.; Leiserson, Charles E.; Rivest, Ronald L.; Stein, Clifford  **Introduction to Algorithms.** 2001. Segunda Edición. Capítulo 2 y 3 pag. 16-64. MIT Press y McGraw-Hill.Bloque con sangría\n",
        "\n",
        "> De León, Arturo Verbel. Mi camino Master. http://micaminomaster.com.co/grafo-algoritmo/complejidad-algoritmica-ejemplos-python-php/\n",
        "\n",
        "> Enciclopedia de Conocimientos Fundamentales UNAM SIGLO XXI. Tema 2.6 Ordenes de crecimiento. http://catalogacionrua.unam.mx/enciclopedia/computacion/Text/51_tema02_2.6.html\n",
        "\n",
        "\n",
        "\n",
        "\n",
        "\n"
      ]
    }
  ]
}